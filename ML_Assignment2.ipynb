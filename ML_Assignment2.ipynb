{
 "cells": [
  {
   "cell_type": "code",
   "execution_count": 4,
   "id": "2a13742b-d6c2-48d7-a477-f103b091ffd1",
   "metadata": {
    "scrolled": true
   },
   "outputs": [
    {
     "name": "stdout",
     "output_type": "stream",
     "text": [
      "Defaulting to user installation because normal site-packages is not writeableNote: you may need to restart the kernel to use updated packages.\n",
      "\n",
      "Requirement already satisfied: scikit-learn in c:\\users\\2273577\\appdata\\roaming\\python\\python313\\site-packages (1.6.1)\n",
      "Requirement already satisfied: numpy>=1.19.5 in c:\\users\\2273577\\appdata\\roaming\\python\\python313\\site-packages (from scikit-learn) (2.2.3)\n",
      "Requirement already satisfied: scipy>=1.6.0 in c:\\users\\2273577\\appdata\\roaming\\python\\python313\\site-packages (from scikit-learn) (1.15.2)\n",
      "Requirement already satisfied: joblib>=1.2.0 in c:\\users\\2273577\\appdata\\roaming\\python\\python313\\site-packages (from scikit-learn) (1.4.2)\n",
      "Requirement already satisfied: threadpoolctl>=3.1.0 in c:\\users\\2273577\\appdata\\roaming\\python\\python313\\site-packages (from scikit-learn) (3.5.0)\n"
     ]
    }
   ],
   "source": [
    "pip install scikit-learn"
   ]
  },
  {
   "cell_type": "code",
   "execution_count": 97,
   "id": "3586c078-b451-4a5b-80d0-6fddfa5c670e",
   "metadata": {},
   "outputs": [],
   "source": [
    "import pandas as pd\n",
    "import numpy as np\n",
    "import matplotlib.pyplot as plt\n",
    "import seaborn as sns\n",
    "from scipy import stats\n",
    "from scipy.stats import shapiro, normaltest, skew, kurtosis,zscore\n",
    "from sklearn.preprocessing import StandardScaler, MinMaxScaler, OneHotEncoder"
   ]
  },
  {
   "cell_type": "code",
   "execution_count": 51,
   "id": "45c3d6fd-dca1-4d94-86cd-32d5d2d2d871",
   "metadata": {},
   "outputs": [
    {
     "data": {
      "text/html": [
       "<div>\n",
       "<style scoped>\n",
       "    .dataframe tbody tr th:only-of-type {\n",
       "        vertical-align: middle;\n",
       "    }\n",
       "\n",
       "    .dataframe tbody tr th {\n",
       "        vertical-align: top;\n",
       "    }\n",
       "\n",
       "    .dataframe thead th {\n",
       "        text-align: right;\n",
       "    }\n",
       "</style>\n",
       "<table border=\"1\" class=\"dataframe\">\n",
       "  <thead>\n",
       "    <tr style=\"text-align: right;\">\n",
       "      <th></th>\n",
       "      <th>Company</th>\n",
       "      <th>Age</th>\n",
       "      <th>Salary</th>\n",
       "      <th>Place</th>\n",
       "      <th>Country</th>\n",
       "      <th>Gender</th>\n",
       "    </tr>\n",
       "  </thead>\n",
       "  <tbody>\n",
       "    <tr>\n",
       "      <th>0</th>\n",
       "      <td>TCS</td>\n",
       "      <td>20.0</td>\n",
       "      <td>NaN</td>\n",
       "      <td>Chennai</td>\n",
       "      <td>India</td>\n",
       "      <td>0</td>\n",
       "    </tr>\n",
       "    <tr>\n",
       "      <th>1</th>\n",
       "      <td>Infosys</td>\n",
       "      <td>30.0</td>\n",
       "      <td>NaN</td>\n",
       "      <td>Mumbai</td>\n",
       "      <td>India</td>\n",
       "      <td>0</td>\n",
       "    </tr>\n",
       "    <tr>\n",
       "      <th>2</th>\n",
       "      <td>TCS</td>\n",
       "      <td>35.0</td>\n",
       "      <td>2300.0</td>\n",
       "      <td>Calcutta</td>\n",
       "      <td>India</td>\n",
       "      <td>0</td>\n",
       "    </tr>\n",
       "    <tr>\n",
       "      <th>3</th>\n",
       "      <td>Infosys</td>\n",
       "      <td>40.0</td>\n",
       "      <td>3000.0</td>\n",
       "      <td>Delhi</td>\n",
       "      <td>India</td>\n",
       "      <td>0</td>\n",
       "    </tr>\n",
       "    <tr>\n",
       "      <th>4</th>\n",
       "      <td>TCS</td>\n",
       "      <td>23.0</td>\n",
       "      <td>4000.0</td>\n",
       "      <td>Mumbai</td>\n",
       "      <td>India</td>\n",
       "      <td>0</td>\n",
       "    </tr>\n",
       "  </tbody>\n",
       "</table>\n",
       "</div>"
      ],
      "text/plain": [
       "   Company   Age  Salary     Place Country  Gender\n",
       "0      TCS  20.0     NaN   Chennai   India       0\n",
       "1  Infosys  30.0     NaN    Mumbai   India       0\n",
       "2      TCS  35.0  2300.0  Calcutta   India       0\n",
       "3  Infosys  40.0  3000.0     Delhi   India       0\n",
       "4      TCS  23.0  4000.0    Mumbai   India       0"
      ]
     },
     "execution_count": 51,
     "metadata": {},
     "output_type": "execute_result"
    }
   ],
   "source": [
    "df=pd.read_csv(r\"C:\\Users\\2273577\\Downloads\\Employee.csv\")\n",
    "df.head()"
   ]
  },
  {
   "cell_type": "markdown",
   "id": "c22976cd-7c52-47d8-868b-b082fea6a89c",
   "metadata": {},
   "source": [
    "Data Exploration"
   ]
  },
  {
   "cell_type": "code",
   "execution_count": 52,
   "id": "bfca9785-1b9d-40bc-9fc0-7371ca7eb116",
   "metadata": {},
   "outputs": [],
   "source": [
    "df.dropna(inplace=True)\n",
    "df.drop_duplicates(inplace=True)"
   ]
  },
  {
   "cell_type": "code",
   "execution_count": 53,
   "id": "2b590a13-adea-4d9e-907d-58b09d63765d",
   "metadata": {},
   "outputs": [
    {
     "name": "stdout",
     "output_type": "stream",
     "text": [
      "<class 'pandas.core.frame.DataFrame'>\n",
      "Index: 91 entries, 2 to 147\n",
      "Data columns (total 6 columns):\n",
      " #   Column   Non-Null Count  Dtype  \n",
      "---  ------   --------------  -----  \n",
      " 0   Company  91 non-null     object \n",
      " 1   Age      91 non-null     float64\n",
      " 2   Salary   91 non-null     float64\n",
      " 3   Place    91 non-null     object \n",
      " 4   Country  91 non-null     object \n",
      " 5   Gender   91 non-null     int64  \n",
      "dtypes: float64(2), int64(1), object(3)\n",
      "memory usage: 5.0+ KB\n"
     ]
    }
   ],
   "source": [
    "df.info()"
   ]
  },
  {
   "cell_type": "code",
   "execution_count": 54,
   "id": "579ef27f-29f1-4692-8121-0e286f031c6f",
   "metadata": {},
   "outputs": [
    {
     "data": {
      "image/png": "[encoded data removed]",
      "text/plain": [
       "<Figure size 640x480 with 1 Axes>"
      ]
     },
     "metadata": {},
     "output_type": "display_data"
    }
   ],
   "source": [
    "#Histogram\n",
    "df['Age'].hist()\n",
    "plt.show()"
   ]
  },
  {
   "cell_type": "code",
   "execution_count": 55,
   "id": "195541b5-ca32-40c1-8090-45086ac6c09f",
   "metadata": {},
   "outputs": [
    {
     "data": {
      "image/png": "[encoded data removed]",
      "text/plain": [
       "<Figure size 640x480 with 1 Axes>"
      ]
     },
     "metadata": {},
     "output_type": "display_data"
    }
   ],
   "source": [
    "#Boxplot\n",
    "sns.boxplot(x='Salary', data=df)\n",
    "plt.xlabel('Salary', fontsize=14)\n",
    "plt.show()"
   ]
  },
  {
   "cell_type": "code",
   "execution_count": 56,
   "id": "650df425-ad70-4431-9b29-62d45d4bc474",
   "metadata": {},
   "outputs": [
    {
     "data": {
      "text/plain": [
       "Company     6\n",
       "Age        28\n",
       "Salary     31\n",
       "Place      11\n",
       "Country     1\n",
       "Gender      2\n",
       "dtype: int64"
      ]
     },
     "execution_count": 56,
     "metadata": {},
     "output_type": "execute_result"
    }
   ],
   "source": [
    "df.nunique()"
   ]
  },
  {
   "cell_type": "code",
   "execution_count": 57,
   "id": "f8162cf8-e6d4-473f-9d53-d3b4310ee266",
   "metadata": {},
   "outputs": [
    {
     "data": {
      "text/plain": [
       "array(['TCS', 'Infosys', 'CTS', 'Congnizant', 'Infosys Pvt Lmt',\n",
       "       'Tata Consultancy Services'], dtype=object)"
      ]
     },
     "execution_count": 57,
     "metadata": {},
     "output_type": "execute_result"
    }
   ],
   "source": [
    "df['Company'].unique()"
   ]
  },
  {
   "cell_type": "code",
   "execution_count": 58,
   "id": "ce04ecb0-aebb-4b72-b9c6-009de5102560",
   "metadata": {},
   "outputs": [
    {
     "data": {
      "text/plain": [
       "<bound method Series.unique of 2      35.0\n",
       "3      40.0\n",
       "4      23.0\n",
       "7      23.0\n",
       "8      34.0\n",
       "       ... \n",
       "142    22.0\n",
       "143    33.0\n",
       "145    44.0\n",
       "146    33.0\n",
       "147    22.0\n",
       "Name: Age, Length: 91, dtype: float64>"
      ]
     },
     "execution_count": 58,
     "metadata": {},
     "output_type": "execute_result"
    }
   ],
   "source": [
    "df['Age'].unique"
   ]
  },
  {
   "cell_type": "code",
   "execution_count": 59,
   "id": "fc206172-cd29-471b-ae8d-83257b09ac89",
   "metadata": {},
   "outputs": [
    {
     "data": {
      "text/plain": [
       "<bound method Series.unique of 2      2300.0\n",
       "3      3000.0\n",
       "4      4000.0\n",
       "7      7000.0\n",
       "8      8000.0\n",
       "        ...  \n",
       "142    8202.0\n",
       "143    9024.0\n",
       "145    4034.0\n",
       "146    5034.0\n",
       "147    8202.0\n",
       "Name: Salary, Length: 91, dtype: float64>"
      ]
     },
     "execution_count": 59,
     "metadata": {},
     "output_type": "execute_result"
    }
   ],
   "source": [
    "df['Salary'].unique"
   ]
  },
  {
   "cell_type": "code",
   "execution_count": 60,
   "id": "566e461f-121c-437b-861e-06237bea219c",
   "metadata": {},
   "outputs": [
    {
     "data": {
      "text/plain": [
       "<bound method Series.unique of 2      Calcutta\n",
       "3         Delhi\n",
       "4        Mumbai\n",
       "7        Mumbai\n",
       "8      Calcutta\n",
       "         ...   \n",
       "142      Mumbai\n",
       "143    Calcutta\n",
       "145       Delhi\n",
       "146      Mumbai\n",
       "147      Cochin\n",
       "Name: Place, Length: 91, dtype: object>"
      ]
     },
     "execution_count": 60,
     "metadata": {},
     "output_type": "execute_result"
    }
   ],
   "source": [
    "df['Place'].unique"
   ]
  },
  {
   "cell_type": "code",
   "execution_count": 61,
   "id": "894ce080-2ff0-4306-b502-2baa5f822e7f",
   "metadata": {},
   "outputs": [
    {
     "data": {
      "text/plain": [
       "<bound method Series.unique of 2      India\n",
       "3      India\n",
       "4      India\n",
       "7      India\n",
       "8      India\n",
       "       ...  \n",
       "142    India\n",
       "143    India\n",
       "145    India\n",
       "146    India\n",
       "147    India\n",
       "Name: Country, Length: 91, dtype: object>"
      ]
     },
     "execution_count": 61,
     "metadata": {},
     "output_type": "execute_result"
    }
   ],
   "source": [
    "df['Country'].unique"
   ]
  },
  {
   "cell_type": "code",
   "execution_count": 62,
   "id": "290a20a9-53e8-4661-92db-43b92bb31879",
   "metadata": {},
   "outputs": [],
   "source": [
    "lengths = {col: len(df[col].unique()) for col in df.columns}"
   ]
  },
  {
   "cell_type": "code",
   "execution_count": 63,
   "id": "9dbad57c-c82a-4af1-b91f-c2ced84aa2a0",
   "metadata": {},
   "outputs": [
    {
     "name": "stdout",
     "output_type": "stream",
     "text": [
      "\n",
      "Length of unique values in each feature:\n",
      "Company: 6\n",
      "Age: 28\n",
      "Salary: 31\n",
      "Place: 11\n",
      "Country: 1\n",
      "Gender: 2\n"
     ]
    }
   ],
   "source": [
    "print(\"\\nLength of unique values in each feature:\")\n",
    "for col, length in lengths.items():\n",
    "    print(f\"{col}: {length}\")"
   ]
  },
  {
   "cell_type": "code",
   "execution_count": 64,
   "id": "5c0a7220-6b35-49eb-aea3-acbcbd0e9afd",
   "metadata": {},
   "outputs": [
    {
     "data": {
      "text/html": [
       "<div>\n",
       "<style scoped>\n",
       "    .dataframe tbody tr th:only-of-type {\n",
       "        vertical-align: middle;\n",
       "    }\n",
       "\n",
       "    .dataframe tbody tr th {\n",
       "        vertical-align: top;\n",
       "    }\n",
       "\n",
       "    .dataframe thead th {\n",
       "        text-align: right;\n",
       "    }\n",
       "</style>\n",
       "<table border=\"1\" class=\"dataframe\">\n",
       "  <thead>\n",
       "    <tr style=\"text-align: right;\">\n",
       "      <th></th>\n",
       "      <th>Age</th>\n",
       "      <th>Salary</th>\n",
       "      <th>Gender</th>\n",
       "    </tr>\n",
       "  </thead>\n",
       "  <tbody>\n",
       "    <tr>\n",
       "      <th>count</th>\n",
       "      <td>91.000000</td>\n",
       "      <td>91.000000</td>\n",
       "      <td>91.000000</td>\n",
       "    </tr>\n",
       "    <tr>\n",
       "      <th>mean</th>\n",
       "      <td>30.461538</td>\n",
       "      <td>4861.219780</td>\n",
       "      <td>0.219780</td>\n",
       "    </tr>\n",
       "    <tr>\n",
       "      <th>std</th>\n",
       "      <td>12.161239</td>\n",
       "      <td>2684.750826</td>\n",
       "      <td>0.416392</td>\n",
       "    </tr>\n",
       "    <tr>\n",
       "      <th>min</th>\n",
       "      <td>0.000000</td>\n",
       "      <td>1089.000000</td>\n",
       "      <td>0.000000</td>\n",
       "    </tr>\n",
       "    <tr>\n",
       "      <th>25%</th>\n",
       "      <td>22.000000</td>\n",
       "      <td>3000.000000</td>\n",
       "      <td>0.000000</td>\n",
       "    </tr>\n",
       "    <tr>\n",
       "      <th>50%</th>\n",
       "      <td>33.000000</td>\n",
       "      <td>4034.000000</td>\n",
       "      <td>0.000000</td>\n",
       "    </tr>\n",
       "    <tr>\n",
       "      <th>75%</th>\n",
       "      <td>40.000000</td>\n",
       "      <td>8000.000000</td>\n",
       "      <td>0.000000</td>\n",
       "    </tr>\n",
       "    <tr>\n",
       "      <th>max</th>\n",
       "      <td>54.000000</td>\n",
       "      <td>9876.000000</td>\n",
       "      <td>1.000000</td>\n",
       "    </tr>\n",
       "  </tbody>\n",
       "</table>\n",
       "</div>"
      ],
      "text/plain": [
       "             Age       Salary     Gender\n",
       "count  91.000000    91.000000  91.000000\n",
       "mean   30.461538  4861.219780   0.219780\n",
       "std    12.161239  2684.750826   0.416392\n",
       "min     0.000000  1089.000000   0.000000\n",
       "25%    22.000000  3000.000000   0.000000\n",
       "50%    33.000000  4034.000000   0.000000\n",
       "75%    40.000000  8000.000000   0.000000\n",
       "max    54.000000  9876.000000   1.000000"
      ]
     },
     "execution_count": 64,
     "metadata": {},
     "output_type": "execute_result"
    }
   ],
   "source": [
    "df.describe()"
   ]
  },
  {
   "cell_type": "code",
   "execution_count": 65,
   "id": "c22dd6d2-2a89-41f3-9ebe-6fb2e64e1466",
   "metadata": {},
   "outputs": [
    {
     "name": "stdout",
     "output_type": "stream",
     "text": [
      "DataFrame with Renamed Columns:\n",
      "             Company   Age  Salary      City Country  Gender\n",
      "2                TCS  35.0  2300.0  Calcutta   India       0\n",
      "3            Infosys  40.0  3000.0     Delhi   India       0\n",
      "4                TCS  23.0  4000.0    Mumbai   India       0\n",
      "7            Infosys  23.0  7000.0    Mumbai   India       1\n",
      "8                TCS  34.0  8000.0  Calcutta   India       1\n",
      "..               ...   ...     ...       ...     ...     ...\n",
      "142  Infosys Pvt Lmt  22.0  8202.0    Mumbai   India       0\n",
      "143              TCS  33.0  9024.0  Calcutta   India       1\n",
      "145          Infosys  44.0  4034.0     Delhi   India       1\n",
      "146              TCS  33.0  5034.0    Mumbai   India       1\n",
      "147          Infosys  22.0  8202.0    Cochin   India       0\n",
      "\n",
      "[91 rows x 6 columns]\n"
     ]
    }
   ],
   "source": [
    "df.rename(columns={'Place':'City'},inplace=True)\n",
    "print(\"DataFrame with Renamed Columns:\")\n",
    "print(df)"
   ]
  },
  {
   "cell_type": "code",
   "execution_count": 66,
   "id": "17a4f28a-a85d-49c6-839f-0cfcfe17e897",
   "metadata": {},
   "outputs": [
    {
     "data": {
      "text/plain": [
       "array(['M', 'F'], dtype=object)"
      ]
     },
     "execution_count": 66,
     "metadata": {},
     "output_type": "execute_result"
    }
   ],
   "source": [
    "df['Gender']=df['Gender'].replace({0:'M',1:'F'})\n",
    "df['Gender'].unique()"
   ]
  },
  {
   "cell_type": "code",
   "execution_count": 69,
   "id": "3100a9c9-9e81-4ac6-8b33-9646ec7a53a0",
   "metadata": {
    "scrolled": true
   },
   "outputs": [
    {
     "data": {
      "text/plain": [
       "array(['TCS', 'Infosys', 'CTS'], dtype=object)"
      ]
     },
     "execution_count": 69,
     "metadata": {},
     "output_type": "execute_result"
    }
   ],
   "source": [
    "df['Company'] = df['Company'].replace({'Tata Consultancy Services': 'TCS', 'Congnizant': 'CTS', 'Infosys Pvt Lmt': 'Infosys'})\n",
    "df['Company'].unique()"
   ]
  },
  {
   "cell_type": "markdown",
   "id": "ce00a167-e2ac-4124-9f27-08eafb0b09c3",
   "metadata": {},
   "source": [
    "Data Cleaning"
   ]
  },
  {
   "cell_type": "code",
   "execution_count": 70,
   "id": "92b1aa2a-395d-4a0f-b081-6b601e283d1b",
   "metadata": {},
   "outputs": [
    {
     "name": "stdout",
     "output_type": "stream",
     "text": [
      "Missing values in df: \n",
      "     Company    Age  Salary   City  Country  Gender\n",
      "2      False  False   False  False    False   False\n",
      "3      False  False   False  False    False   False\n",
      "4      False  False   False  False    False   False\n",
      "7      False  False   False  False    False   False\n",
      "8      False  False   False  False    False   False\n",
      "..       ...    ...     ...    ...      ...     ...\n",
      "142    False  False   False  False    False   False\n",
      "143    False  False   False  False    False   False\n",
      "145    False  False   False  False    False   False\n",
      "146    False  False   False  False    False   False\n",
      "147    False  False   False  False    False   False\n",
      "\n",
      "[91 rows x 6 columns]\n"
     ]
    }
   ],
   "source": [
    "missing_values = df.isnull()\n",
    "print(\"Missing values in df: \")\n",
    "print(missing_values)"
   ]
  },
  {
   "cell_type": "code",
   "execution_count": 71,
   "id": "0412813b-e07f-4112-8834-3cd45b886f0a",
   "metadata": {},
   "outputs": [
    {
     "name": "stdout",
     "output_type": "stream",
     "text": [
      "     Company   Age  Salary      City Country Gender\n",
      "2        TCS  35.0  2300.0  Calcutta   India      M\n",
      "3    Infosys  40.0  3000.0     Delhi   India      M\n",
      "4        TCS  23.0  4000.0    Mumbai   India      M\n",
      "7    Infosys  23.0  7000.0    Mumbai   India      F\n",
      "8        TCS  34.0  8000.0  Calcutta   India      F\n",
      "..       ...   ...     ...       ...     ...    ...\n",
      "142  Infosys  22.0  8202.0    Mumbai   India      M\n",
      "143      TCS  33.0  9024.0  Calcutta   India      F\n",
      "145  Infosys  44.0  4034.0     Delhi   India      F\n",
      "146      TCS  33.0  5034.0    Mumbai   India      F\n",
      "147  Infosys  22.0  8202.0    Cochin   India      M\n",
      "\n",
      "[91 rows x 6 columns]\n"
     ]
    }
   ],
   "source": [
    "df_dropped = df.dropna()\n",
    "print(df_dropped)"
   ]
  },
  {
   "cell_type": "code",
   "execution_count": 72,
   "id": "9f0178b8-cbbe-4fe9-b806-74e55ebe554f",
   "metadata": {},
   "outputs": [
    {
     "name": "stdout",
     "output_type": "stream",
     "text": [
      "     Company   Age  Salary      City Country Gender\n",
      "2        TCS  35.0  2300.0  Calcutta   India      M\n",
      "3    Infosys  40.0  3000.0     Delhi   India      M\n",
      "4        TCS  23.0  4000.0    Mumbai   India      M\n",
      "7    Infosys  23.0  7000.0    Mumbai   India      F\n",
      "8        TCS  34.0  8000.0  Calcutta   India      F\n",
      "..       ...   ...     ...       ...     ...    ...\n",
      "142  Infosys  22.0  8202.0    Mumbai   India      M\n",
      "143      TCS  33.0  9024.0  Calcutta   India      F\n",
      "145  Infosys  44.0  4034.0     Delhi   India      F\n",
      "146      TCS  33.0  5034.0    Mumbai   India      F\n",
      "147  Infosys  22.0  8202.0    Cochin   India      M\n",
      "\n",
      "[91 rows x 6 columns]\n"
     ]
    }
   ],
   "source": [
    "df_dropped['Age'] = df['Age'].fillna(df['Age'].mean())\n",
    "df_dropped['Salary'] = df['Salary'].fillna(df['Salary'].mean())\n",
    "print(df_dropped)"
   ]
  },
  {
   "cell_type": "code",
   "execution_count": 73,
   "id": "8ed4774c-88b3-423a-9faa-0cfd36965fb2",
   "metadata": {},
   "outputs": [
    {
     "name": "stdout",
     "output_type": "stream",
     "text": [
      "\n",
      "Inappropriate values in 'Salary'(negative values):\n",
      "Empty DataFrame\n",
      "Columns: [Company, Age, Salary, City, Country, Gender]\n",
      "Index: []\n"
     ]
    }
   ],
   "source": [
    "inappropriate_values = df[df_dropped['Salary'] <= 0]\n",
    "\n",
    "print(\"\\nInappropriate values in 'Salary'(negative values):\")\n",
    "print(inappropriate_values)\n"
   ]
  },
  {
   "cell_type": "code",
   "execution_count": 74,
   "id": "73739dc5-2abf-4d47-88cb-3188dfd245d6",
   "metadata": {},
   "outputs": [
    {
     "name": "stdout",
     "output_type": "stream",
     "text": [
      "\n",
      "Inappropriate values in 'Age'(negative values):\n",
      "     Company  Age  Salary        City Country Gender\n",
      "88   Infosys  0.0  3030.0    Calcutta   India      M\n",
      "92       TCS  0.0  3045.0       Delhi   India      M\n",
      "101      CTS  0.0  2034.0  Podicherry   India      M\n",
      "107      TCS  0.0  9024.0     Chennai   India      F\n",
      "111  Infosys  0.0  3234.0      Mumbai   India      M\n",
      "121      CTS  0.0  1234.0    Calcutta   India      M\n"
     ]
    }
   ],
   "source": [
    "inappropriate_values = df[df_dropped['Age'] <= 0]\n",
    "\n",
    "print(\"\\nInappropriate values in 'Age'(negative values):\")\n",
    "print(inappropriate_values)\n"
   ]
  },
  {
   "cell_type": "code",
   "execution_count": 75,
   "id": "b593b3fb-bc01-4217-bb87-5aebbd686577",
   "metadata": {},
   "outputs": [
    {
     "name": "stdout",
     "output_type": "stream",
     "text": [
      "\n",
      "DataFrame after treating inappropriate values:\n",
      "     Company   Age  Salary      City Country Gender\n",
      "2        TCS  35.0  2300.0  Calcutta   India      M\n",
      "3    Infosys  40.0  3000.0     Delhi   India      M\n",
      "4        TCS  23.0  4000.0    Mumbai   India      M\n",
      "7    Infosys  23.0  7000.0    Mumbai   India      F\n",
      "8        TCS  34.0  8000.0  Calcutta   India      F\n",
      "..       ...   ...     ...       ...     ...    ...\n",
      "142  Infosys  22.0  8202.0    Mumbai   India      M\n",
      "143      TCS  33.0  9024.0  Calcutta   India      F\n",
      "145  Infosys  44.0  4034.0     Delhi   India      F\n",
      "146      TCS  33.0  5034.0    Mumbai   India      F\n",
      "147  Infosys  22.0  8202.0    Cochin   India      M\n",
      "\n",
      "[91 rows x 6 columns]\n"
     ]
    }
   ],
   "source": [
    "median_age = df[df['Age'] >= 0]['Age'].median()\n",
    "df['Age'] = df['Age'].apply(lambda x: x if x >= 0 else median_age)\n",
    "\n",
    "print(\"\\nDataFrame after treating inappropriate values:\")\n",
    "print(df)"
   ]
  },
  {
   "cell_type": "code",
   "execution_count": 76,
   "id": "b7e7dd37-42f4-40e8-8a3b-5fe6ec263197",
   "metadata": {},
   "outputs": [
    {
     "name": "stdout",
     "output_type": "stream",
     "text": [
      "DataFrame after removing duplicate rows:\n",
      "     Company   Age  Salary      City Country Gender\n",
      "2        TCS  35.0  2300.0  Calcutta   India      M\n",
      "3    Infosys  40.0  3000.0     Delhi   India      M\n",
      "4        TCS  23.0  4000.0    Mumbai   India      M\n",
      "7    Infosys  23.0  7000.0    Mumbai   India      F\n",
      "8        TCS  34.0  8000.0  Calcutta   India      F\n",
      "..       ...   ...     ...       ...     ...    ...\n",
      "142  Infosys  22.0  8202.0    Mumbai   India      M\n",
      "143      TCS  33.0  9024.0  Calcutta   India      F\n",
      "145  Infosys  44.0  4034.0     Delhi   India      F\n",
      "146      TCS  33.0  5034.0    Mumbai   India      F\n",
      "147  Infosys  22.0  8202.0    Cochin   India      M\n",
      "\n",
      "[91 rows x 6 columns]\n"
     ]
    }
   ],
   "source": [
    "df_no_duplicates = df_dropped.drop_duplicates()\n",
    "\n",
    "print(\"DataFrame after removing duplicate rows:\")\n",
    "print(df_no_duplicates)"
   ]
  },
  {
   "cell_type": "code",
   "execution_count": 77,
   "id": "af2f2675-edbc-4b9e-a750-6d056a20d8e8",
   "metadata": {},
   "outputs": [
    {
     "name": "stdout",
     "output_type": "stream",
     "text": [
      "          Age    Salary\n",
      "2    0.375258 -0.959273\n",
      "3    0.788678 -0.697097\n",
      "4   -0.616950 -0.322559\n",
      "7   -0.616950  0.801054\n",
      "8    0.292574  1.175591\n",
      "..        ...       ...\n",
      "142 -0.699634  1.251248\n",
      "143  0.209890  1.559118\n",
      "145  1.119415 -0.309825\n",
      "146  0.209890  0.064713\n",
      "147 -0.699634  1.251248\n",
      "\n",
      "[91 rows x 2 columns]\n"
     ]
    }
   ],
   "source": [
    "df_zscores = df_dropped.drop(columns=['Company', 'City','Country','Gender'])\n",
    "# Calculate Z-scores\n",
    "z_scores = df_zscores.apply(zscore)\n",
    "print(z_scores)"
   ]
  },
  {
   "cell_type": "code",
   "execution_count": 78,
   "id": "1c2ce909-dc5f-446a-9084-0a8662adac41",
   "metadata": {},
   "outputs": [
    {
     "name": "stdout",
     "output_type": "stream",
     "text": [
      "Age         18.0\n",
      "Salary    5000.0\n",
      "dtype: float64\n"
     ]
    }
   ],
   "source": [
    "Q1 = df_zscores.quantile(0.25)\n",
    "Q3 = df_zscores.quantile(0.75)\n",
    "IQR = Q3 - Q1\n",
    "print(IQR)"
   ]
  },
  {
   "cell_type": "code",
   "execution_count": 79,
   "id": "3c0dc001-7370-4828-a331-b72bb9d224a1",
   "metadata": {},
   "outputs": [
    {
     "name": "stdout",
     "output_type": "stream",
     "text": [
      "     Company   Age  Salary      City Country Gender\n",
      "2        TCS  35.0  2300.0  Calcutta   India      M\n",
      "3    Infosys  40.0  3000.0     Delhi   India      M\n",
      "4        TCS  23.0  4000.0    Mumbai   India      M\n",
      "7    Infosys  23.0  7000.0    Mumbai   India      F\n",
      "8        TCS  34.0  8000.0  Calcutta   India      F\n",
      "..       ...   ...     ...       ...     ...    ...\n",
      "142  Infosys  22.0  8202.0    Mumbai   India      M\n",
      "143      TCS  33.0  9024.0  Calcutta   India      F\n",
      "145  Infosys  44.0  4034.0     Delhi   India      F\n",
      "146      TCS  33.0  5034.0    Mumbai   India      F\n",
      "147  Infosys  22.0  8202.0    Cochin   India      M\n",
      "\n",
      "[91 rows x 6 columns]\n"
     ]
    }
   ],
   "source": [
    "numerical_cols = df_zscores.select_dtypes(include=np.number).columns\n",
    "df_IQR = df[~((df[numerical_cols] < (Q1 - 1.5 * IQR)) | (df[numerical_cols] > (Q3 + 1.5 * IQR))).any(axis=1)]\n",
    "\n",
    "print(df_IQR)"
   ]
  },
  {
   "cell_type": "code",
   "execution_count": 80,
   "id": "729c869a-e03d-44e6-9906-f5ce48e6ebe8",
   "metadata": {},
   "outputs": [
    {
     "name": "stdout",
     "output_type": "stream",
     "text": [
      "DataFrame after replacing 0 in 'Age' with NaN:\n",
      "     Company   Age  Salary      City Country Gender\n",
      "2        TCS  35.0  2300.0  Calcutta   India      M\n",
      "3    Infosys  40.0  3000.0     Delhi   India      M\n",
      "4        TCS  23.0  4000.0    Mumbai   India      M\n",
      "7    Infosys  23.0  7000.0    Mumbai   India      F\n",
      "8        TCS  34.0  8000.0  Calcutta   India      F\n",
      "..       ...   ...     ...       ...     ...    ...\n",
      "142  Infosys  22.0  8202.0    Mumbai   India      M\n",
      "143      TCS  33.0  9024.0  Calcutta   India      F\n",
      "145  Infosys  44.0  4034.0     Delhi   India      F\n",
      "146      TCS  33.0  5034.0    Mumbai   India      F\n",
      "147  Infosys  22.0  8202.0    Cochin   India      M\n",
      "\n",
      "[91 rows x 6 columns]\n"
     ]
    },
    {
     "name": "stderr",
     "output_type": "stream",
     "text": [
      "C:\\Users\\2273577\\AppData\\Local\\Temp\\ipykernel_25128\\1556388062.py:1: FutureWarning: A value is trying to be set on a copy of a DataFrame or Series through chained assignment using an inplace method.\n",
      "The behavior will change in pandas 3.0. This inplace method will never work because the intermediate object on which we are setting values always behaves as a copy.\n",
      "\n",
      "For example, when doing 'df[col].method(value, inplace=True)', try using 'df.method({col: value}, inplace=True)' or df[col] = df[col].method(value) instead, to perform the operation inplace on the original object.\n",
      "\n",
      "\n",
      "  df['Age'].replace(0, np.nan, inplace=True)\n"
     ]
    }
   ],
   "source": [
    "df['Age'].replace(0, np.nan, inplace=True)\n",
    "\n",
    "print(\"DataFrame after replacing 0 in 'Age' with NaN:\")\n",
    "print(df)"
   ]
  },
  {
   "cell_type": "code",
   "execution_count": 81,
   "id": "012eb862-d3a3-49ea-93eb-3a62b5196dac",
   "metadata": {},
   "outputs": [
    {
     "name": "stdout",
     "output_type": "stream",
     "text": [
      "\n",
      "DataFrame after replacing null values with mean:\n",
      "     Company   Age  Salary      City Country Gender\n",
      "2        TCS  35.0  2300.0  Calcutta   India      M\n",
      "3    Infosys  40.0  3000.0     Delhi   India      M\n",
      "4        TCS  23.0  4000.0    Mumbai   India      M\n",
      "7    Infosys  23.0  7000.0    Mumbai   India      F\n",
      "8        TCS  34.0  8000.0  Calcutta   India      F\n",
      "..       ...   ...     ...       ...     ...    ...\n",
      "142  Infosys  22.0  8202.0    Mumbai   India      M\n",
      "143      TCS  33.0  9024.0  Calcutta   India      F\n",
      "145  Infosys  44.0  4034.0     Delhi   India      F\n",
      "146      TCS  33.0  5034.0    Mumbai   India      F\n",
      "147  Infosys  22.0  8202.0    Cochin   India      M\n",
      "\n",
      "[91 rows x 6 columns]\n"
     ]
    },
    {
     "name": "stderr",
     "output_type": "stream",
     "text": [
      "C:\\Users\\2273577\\AppData\\Local\\Temp\\ipykernel_25128\\1137038536.py:2: FutureWarning: A value is trying to be set on a copy of a DataFrame or Series through chained assignment using an inplace method.\n",
      "The behavior will change in pandas 3.0. This inplace method will never work because the intermediate object on which we are setting values always behaves as a copy.\n",
      "\n",
      "For example, when doing 'df[col].method(value, inplace=True)', try using 'df.method({col: value}, inplace=True)' or df[col] = df[col].method(value) instead, to perform the operation inplace on the original object.\n",
      "\n",
      "\n",
      "  df_mean['Age'].fillna(df_mean['Age'].mean(), inplace=True)\n",
      "C:\\Users\\2273577\\AppData\\Local\\Temp\\ipykernel_25128\\1137038536.py:3: FutureWarning: A value is trying to be set on a copy of a DataFrame or Series through chained assignment using an inplace method.\n",
      "The behavior will change in pandas 3.0. This inplace method will never work because the intermediate object on which we are setting values always behaves as a copy.\n",
      "\n",
      "For example, when doing 'df[col].method(value, inplace=True)', try using 'df.method({col: value}, inplace=True)' or df[col] = df[col].method(value) instead, to perform the operation inplace on the original object.\n",
      "\n",
      "\n",
      "  df_mean['Salary'].fillna(df_mean['Salary'].mean(), inplace=True)\n"
     ]
    }
   ],
   "source": [
    "df_mean = df.copy()\n",
    "df_mean['Age'].fillna(df_mean['Age'].mean(), inplace=True)\n",
    "df_mean['Salary'].fillna(df_mean['Salary'].mean(), inplace=True)\n",
    "\n",
    "print(\"\\nDataFrame after replacing null values with mean:\")\n",
    "print(df_mean)"
   ]
  },
  {
   "cell_type": "markdown",
   "id": "757ba102-83f0-4111-8039-1ec893964a7b",
   "metadata": {},
   "source": [
    "Data Analysis"
   ]
  },
  {
   "cell_type": "code",
   "execution_count": 82,
   "id": "448361a4-ec85-441b-96f6-8af5895f1396",
   "metadata": {},
   "outputs": [
    {
     "name": "stdout",
     "output_type": "stream",
     "text": [
      "Filtered DataFrame with age > 40 and salary < 5000:\n",
      "     Company   Age  Salary       City Country Gender\n",
      "21   Infosys  50.0  3184.0      Delhi   India      M\n",
      "32   Infosys  45.0  4034.0   Calcutta   India      M\n",
      "39   Infosys  41.0  3000.0     Mumbai   India      M\n",
      "50   Infosys  41.0  3000.0    Chennai   India      M\n",
      "57   Infosys  51.0  3184.0  Hyderabad   India      M\n",
      "68   Infosys  43.0  4034.0     Mumbai   India      M\n",
      "75   Infosys  44.0  3000.0     Cochin   India      M\n",
      "86   Infosys  41.0  3000.0      Delhi   India      M\n",
      "93   Infosys  54.0  3184.0     Mumbai   India      M\n",
      "104  Infosys  44.0  4034.0      Delhi   India      M\n",
      "122  Infosys  44.0  3234.0     Mumbai   India      M\n",
      "129  Infosys  50.0  3184.0   Calcutta   India      M\n",
      "138      CTS  44.0  3033.0     Cochin   India      M\n",
      "140  Infosys  44.0  4034.0  Hyderabad   India      M\n",
      "145  Infosys  44.0  4034.0      Delhi   India      F\n"
     ]
    }
   ],
   "source": [
    "filtered_df = df[(df['Age'] > 40) & (df['Salary'] < 5000)]\n",
    "\n",
    "print(\"Filtered DataFrame with age > 40 and salary < 5000:\")\n",
    "print(filtered_df)"
   ]
  },
  {
   "cell_type": "code",
   "execution_count": 83,
   "id": "15bd59dd-383a-4ab5-bbf2-4ee6458252e2",
   "metadata": {},
   "outputs": [
    {
     "data": {
      "image/png": "[encoded data removed]",
      "text/plain": [
       "<Figure size 1000x600 with 1 Axes>"
      ]
     },
     "metadata": {},
     "output_type": "display_data"
    }
   ],
   "source": [
    "plt.figure(figsize=(10, 6))\n",
    "plt.bar(df['Age'],df['Salary'])\n",
    "plt.xlabel('Age')\n",
    "plt.ylabel('Salary')\n",
    "plt.title('Age Vs Salary')\n",
    "plt.show()"
   ]
  },
  {
   "cell_type": "code",
   "execution_count": 84,
   "id": "99be7f21-aac7-4353-97ba-689fe3a1319d",
   "metadata": {},
   "outputs": [
    {
     "name": "stdout",
     "output_type": "stream",
     "text": [
      "City\n",
      "Calcutta      23\n",
      "Mumbai        23\n",
      "Delhi         12\n",
      "Cochin        10\n",
      "Chennai        6\n",
      "Noida          6\n",
      "Hyderabad      5\n",
      "Podicherry     3\n",
      "Bhopal         1\n",
      "Nagpur         1\n",
      "Pune           1\n",
      "Name: count, dtype: int64\n"
     ]
    }
   ],
   "source": [
    "city_counts = df['City'].value_counts()\n",
    "print(city_counts)"
   ]
  },
  {
   "cell_type": "code",
   "execution_count": 85,
   "id": "0d595dc3-229f-41fd-b930-a676c5224863",
   "metadata": {
    "scrolled": true
   },
   "outputs": [
    {
     "data": {
      "image/png": "[encoded data removed]",
      "text/plain": [
       "<Figure size 1000x600 with 1 Axes>"
      ]
     },
     "metadata": {},
     "output_type": "display_data"
    }
   ],
   "source": [
    "plt.figure(figsize=(10, 6))\n",
    "city_counts.plot(kind='barh',color='purple')\n",
    "plt.xlabel('City')\n",
    "plt.ylabel('Age')\n",
    "plt.title('City Vs Age')\n",
    "plt.show()"
   ]
  },
  {
   "cell_type": "markdown",
   "id": "a745d44b-0b2a-4430-a5d8-38424cc27594",
   "metadata": {},
   "source": [
    "Data Encoding"
   ]
  },
  {
   "cell_type": "code",
   "execution_count": 89,
   "id": "b6a384ad-87a5-4c95-b663-094cf561938a",
   "metadata": {},
   "outputs": [
    {
     "data": {
      "text/html": [
       "<div>\n",
       "<style scoped>\n",
       "    .dataframe tbody tr th:only-of-type {\n",
       "        vertical-align: middle;\n",
       "    }\n",
       "\n",
       "    .dataframe tbody tr th {\n",
       "        vertical-align: top;\n",
       "    }\n",
       "\n",
       "    .dataframe thead th {\n",
       "        text-align: right;\n",
       "    }\n",
       "</style>\n",
       "<table border=\"1\" class=\"dataframe\">\n",
       "  <thead>\n",
       "    <tr style=\"text-align: right;\">\n",
       "      <th></th>\n",
       "      <th>Company</th>\n",
       "      <th>Age</th>\n",
       "      <th>Salary</th>\n",
       "      <th>City</th>\n",
       "      <th>Country</th>\n",
       "      <th>Gender</th>\n",
       "    </tr>\n",
       "  </thead>\n",
       "  <tbody>\n",
       "    <tr>\n",
       "      <th>2</th>\n",
       "      <td>TCS</td>\n",
       "      <td>35.0</td>\n",
       "      <td>2300.0</td>\n",
       "      <td>Calcutta</td>\n",
       "      <td>India</td>\n",
       "      <td>M</td>\n",
       "    </tr>\n",
       "    <tr>\n",
       "      <th>3</th>\n",
       "      <td>Infosys</td>\n",
       "      <td>40.0</td>\n",
       "      <td>3000.0</td>\n",
       "      <td>Delhi</td>\n",
       "      <td>India</td>\n",
       "      <td>M</td>\n",
       "    </tr>\n",
       "    <tr>\n",
       "      <th>4</th>\n",
       "      <td>TCS</td>\n",
       "      <td>23.0</td>\n",
       "      <td>4000.0</td>\n",
       "      <td>Mumbai</td>\n",
       "      <td>India</td>\n",
       "      <td>M</td>\n",
       "    </tr>\n",
       "    <tr>\n",
       "      <th>7</th>\n",
       "      <td>Infosys</td>\n",
       "      <td>23.0</td>\n",
       "      <td>7000.0</td>\n",
       "      <td>Mumbai</td>\n",
       "      <td>India</td>\n",
       "      <td>F</td>\n",
       "    </tr>\n",
       "    <tr>\n",
       "      <th>8</th>\n",
       "      <td>TCS</td>\n",
       "      <td>34.0</td>\n",
       "      <td>8000.0</td>\n",
       "      <td>Calcutta</td>\n",
       "      <td>India</td>\n",
       "      <td>F</td>\n",
       "    </tr>\n",
       "  </tbody>\n",
       "</table>\n",
       "</div>"
      ],
      "text/plain": [
       "   Company   Age  Salary      City Country Gender\n",
       "2      TCS  35.0  2300.0  Calcutta   India      M\n",
       "3  Infosys  40.0  3000.0     Delhi   India      M\n",
       "4      TCS  23.0  4000.0    Mumbai   India      M\n",
       "7  Infosys  23.0  7000.0    Mumbai   India      F\n",
       "8      TCS  34.0  8000.0  Calcutta   India      F"
      ]
     },
     "execution_count": 89,
     "metadata": {},
     "output_type": "execute_result"
    }
   ],
   "source": [
    "df.head()"
   ]
  },
  {
   "cell_type": "code",
   "execution_count": 88,
   "id": "e148d2d1-b208-4972-9c10-0cc3e51c7bd5",
   "metadata": {},
   "outputs": [
    {
     "data": {
      "text/html": [
       "<div>\n",
       "<style scoped>\n",
       "    .dataframe tbody tr th:only-of-type {\n",
       "        vertical-align: middle;\n",
       "    }\n",
       "\n",
       "    .dataframe tbody tr th {\n",
       "        vertical-align: top;\n",
       "    }\n",
       "\n",
       "    .dataframe thead th {\n",
       "        text-align: right;\n",
       "    }\n",
       "</style>\n",
       "<table border=\"1\" class=\"dataframe\">\n",
       "  <thead>\n",
       "    <tr style=\"text-align: right;\">\n",
       "      <th></th>\n",
       "      <th>Age</th>\n",
       "      <th>Salary</th>\n",
       "    </tr>\n",
       "  </thead>\n",
       "  <tbody>\n",
       "    <tr>\n",
       "      <th>count</th>\n",
       "      <td>85.000000</td>\n",
       "      <td>91.000000</td>\n",
       "    </tr>\n",
       "    <tr>\n",
       "      <th>mean</th>\n",
       "      <td>32.611765</td>\n",
       "      <td>4861.219780</td>\n",
       "    </tr>\n",
       "    <tr>\n",
       "      <th>std</th>\n",
       "      <td>9.354263</td>\n",
       "      <td>2684.750826</td>\n",
       "    </tr>\n",
       "    <tr>\n",
       "      <th>min</th>\n",
       "      <td>17.000000</td>\n",
       "      <td>1089.000000</td>\n",
       "    </tr>\n",
       "    <tr>\n",
       "      <th>25%</th>\n",
       "      <td>23.000000</td>\n",
       "      <td>3000.000000</td>\n",
       "    </tr>\n",
       "    <tr>\n",
       "      <th>50%</th>\n",
       "      <td>33.000000</td>\n",
       "      <td>4034.000000</td>\n",
       "    </tr>\n",
       "    <tr>\n",
       "      <th>75%</th>\n",
       "      <td>40.000000</td>\n",
       "      <td>8000.000000</td>\n",
       "    </tr>\n",
       "    <tr>\n",
       "      <th>max</th>\n",
       "      <td>54.000000</td>\n",
       "      <td>9876.000000</td>\n",
       "    </tr>\n",
       "  </tbody>\n",
       "</table>\n",
       "</div>"
      ],
      "text/plain": [
       "             Age       Salary\n",
       "count  85.000000    91.000000\n",
       "mean   32.611765  4861.219780\n",
       "std     9.354263  2684.750826\n",
       "min    17.000000  1089.000000\n",
       "25%    23.000000  3000.000000\n",
       "50%    33.000000  4034.000000\n",
       "75%    40.000000  8000.000000\n",
       "max    54.000000  9876.000000"
      ]
     },
     "execution_count": 88,
     "metadata": {},
     "output_type": "execute_result"
    }
   ],
   "source": [
    "df.describe()"
   ]
  },
  {
   "cell_type": "code",
   "execution_count": 94,
   "id": "ffbd4d23-a938-4f6a-b99d-5dd2dea5d8a6",
   "metadata": {},
   "outputs": [],
   "source": [
    "df_dropped.drop('Country',axis=1,inplace=True)"
   ]
  },
  {
   "cell_type": "code",
   "execution_count": 95,
   "id": "b373297c-3d30-48cb-8494-ac59fd2fffa5",
   "metadata": {},
   "outputs": [
    {
     "data": {
      "text/html": [
       "<div>\n",
       "<style scoped>\n",
       "    .dataframe tbody tr th:only-of-type {\n",
       "        vertical-align: middle;\n",
       "    }\n",
       "\n",
       "    .dataframe tbody tr th {\n",
       "        vertical-align: top;\n",
       "    }\n",
       "\n",
       "    .dataframe thead th {\n",
       "        text-align: right;\n",
       "    }\n",
       "</style>\n",
       "<table border=\"1\" class=\"dataframe\">\n",
       "  <thead>\n",
       "    <tr style=\"text-align: right;\">\n",
       "      <th></th>\n",
       "      <th>Company</th>\n",
       "      <th>Age</th>\n",
       "      <th>Salary</th>\n",
       "      <th>City</th>\n",
       "      <th>Gender</th>\n",
       "    </tr>\n",
       "  </thead>\n",
       "  <tbody>\n",
       "    <tr>\n",
       "      <th>2</th>\n",
       "      <td>TCS</td>\n",
       "      <td>35.0</td>\n",
       "      <td>2300.0</td>\n",
       "      <td>Calcutta</td>\n",
       "      <td>M</td>\n",
       "    </tr>\n",
       "    <tr>\n",
       "      <th>3</th>\n",
       "      <td>Infosys</td>\n",
       "      <td>40.0</td>\n",
       "      <td>3000.0</td>\n",
       "      <td>Delhi</td>\n",
       "      <td>M</td>\n",
       "    </tr>\n",
       "    <tr>\n",
       "      <th>4</th>\n",
       "      <td>TCS</td>\n",
       "      <td>23.0</td>\n",
       "      <td>4000.0</td>\n",
       "      <td>Mumbai</td>\n",
       "      <td>M</td>\n",
       "    </tr>\n",
       "    <tr>\n",
       "      <th>7</th>\n",
       "      <td>Infosys</td>\n",
       "      <td>23.0</td>\n",
       "      <td>7000.0</td>\n",
       "      <td>Mumbai</td>\n",
       "      <td>F</td>\n",
       "    </tr>\n",
       "    <tr>\n",
       "      <th>8</th>\n",
       "      <td>TCS</td>\n",
       "      <td>34.0</td>\n",
       "      <td>8000.0</td>\n",
       "      <td>Calcutta</td>\n",
       "      <td>F</td>\n",
       "    </tr>\n",
       "  </tbody>\n",
       "</table>\n",
       "</div>"
      ],
      "text/plain": [
       "   Company   Age  Salary      City Gender\n",
       "2      TCS  35.0  2300.0  Calcutta      M\n",
       "3  Infosys  40.0  3000.0     Delhi      M\n",
       "4      TCS  23.0  4000.0    Mumbai      M\n",
       "7  Infosys  23.0  7000.0    Mumbai      F\n",
       "8      TCS  34.0  8000.0  Calcutta      F"
      ]
     },
     "execution_count": 95,
     "metadata": {},
     "output_type": "execute_result"
    }
   ],
   "source": [
    "df.head()"
   ]
  },
  {
   "cell_type": "code",
   "execution_count": 98,
   "id": "6310769c-b56a-417e-a22c-cc2f6ee2cfac",
   "metadata": {},
   "outputs": [
    {
     "name": "stdout",
     "output_type": "stream",
     "text": [
      "     Company   Age  Salary      City Country  Gender_F  Gender_M\n",
      "2        TCS  35.0  2300.0  Calcutta   India     False      True\n",
      "3    Infosys  40.0  3000.0     Delhi   India     False      True\n",
      "4        TCS  23.0  4000.0    Mumbai   India     False      True\n",
      "7    Infosys  23.0  7000.0    Mumbai   India      True     False\n",
      "8        TCS  34.0  8000.0  Calcutta   India      True     False\n",
      "..       ...   ...     ...       ...     ...       ...       ...\n",
      "142  Infosys  22.0  8202.0    Mumbai   India     False      True\n",
      "143      TCS  33.0  9024.0  Calcutta   India      True     False\n",
      "145  Infosys  44.0  4034.0     Delhi   India      True     False\n",
      "146      TCS  33.0  5034.0    Mumbai   India      True     False\n",
      "147  Infosys  22.0  8202.0    Cochin   India     False      True\n",
      "\n",
      "[91 rows x 7 columns]\n"
     ]
    }
   ],
   "source": [
    "# One-hot encoding\n",
    "df_one_hot = pd.get_dummies(df_mean, columns=['Gender'])\n",
    "\n",
    "print(df_one_hot)\n"
   ]
  },
  {
   "cell_type": "markdown",
   "id": "13ec56f8-4d14-42fe-ac8a-95a37cac02f2",
   "metadata": {},
   "source": [
    "Feature Scaling"
   ]
  },
  {
   "cell_type": "code",
   "execution_count": 99,
   "id": "953b4e2e-7e13-4818-8e3e-4028013bb223",
   "metadata": {
    "scrolled": true
   },
   "outputs": [
    {
     "ename": "ValueError",
     "evalue": "could not convert string to float: 'TCS'",
     "output_type": "error",
     "traceback": [
      "\u001b[1;31m---------------------------------------------------------------------------\u001b[0m",
      "\u001b[1;31mValueError\u001b[0m                                Traceback (most recent call last)",
      "Cell \u001b[1;32mIn[99], line 6\u001b[0m\n\u001b[0;32m      3\u001b[0m minmax_scaler \u001b[38;5;241m=\u001b[39m MinMaxScaler()\n\u001b[0;32m      5\u001b[0m \u001b[38;5;66;03m# Apply StandardScaler\u001b[39;00m\n\u001b[1;32m----> 6\u001b[0m df_standard_scaled \u001b[38;5;241m=\u001b[39m pd\u001b[38;5;241m.\u001b[39mDataFrame(\u001b[43mstandard_scaler\u001b[49m\u001b[38;5;241;43m.\u001b[39;49m\u001b[43mfit_transform\u001b[49m\u001b[43m(\u001b[49m\u001b[43mdf_one_hot\u001b[49m\u001b[43m)\u001b[49m, columns\u001b[38;5;241m=\u001b[39mdf_encoded\u001b[38;5;241m.\u001b[39mcolumns)\n\u001b[0;32m      8\u001b[0m \u001b[38;5;66;03m# Apply MinMaxScaler\u001b[39;00m\n\u001b[0;32m      9\u001b[0m df_minmax_scaled \u001b[38;5;241m=\u001b[39m pd\u001b[38;5;241m.\u001b[39mDataFrame(minmax_scaler\u001b[38;5;241m.\u001b[39mfit_transform(df_one_hot), columns\u001b[38;5;241m=\u001b[39mdf_encoded\u001b[38;5;241m.\u001b[39mcolumns)\n",
      "File \u001b[1;32m~\\AppData\\Roaming\\Python\\Python313\\site-packages\\sklearn\\utils\\_set_output.py:319\u001b[0m, in \u001b[0;36m_wrap_method_output.<locals>.wrapped\u001b[1;34m(self, X, *args, **kwargs)\u001b[0m\n\u001b[0;32m    317\u001b[0m \u001b[38;5;129m@wraps\u001b[39m(f)\n\u001b[0;32m    318\u001b[0m \u001b[38;5;28;01mdef\u001b[39;00m\u001b[38;5;250m \u001b[39m\u001b[38;5;21mwrapped\u001b[39m(\u001b[38;5;28mself\u001b[39m, X, \u001b[38;5;241m*\u001b[39margs, \u001b[38;5;241m*\u001b[39m\u001b[38;5;241m*\u001b[39mkwargs):\n\u001b[1;32m--> 319\u001b[0m     data_to_wrap \u001b[38;5;241m=\u001b[39m \u001b[43mf\u001b[49m\u001b[43m(\u001b[49m\u001b[38;5;28;43mself\u001b[39;49m\u001b[43m,\u001b[49m\u001b[43m \u001b[49m\u001b[43mX\u001b[49m\u001b[43m,\u001b[49m\u001b[43m \u001b[49m\u001b[38;5;241;43m*\u001b[39;49m\u001b[43margs\u001b[49m\u001b[43m,\u001b[49m\u001b[43m \u001b[49m\u001b[38;5;241;43m*\u001b[39;49m\u001b[38;5;241;43m*\u001b[39;49m\u001b[43mkwargs\u001b[49m\u001b[43m)\u001b[49m\n\u001b[0;32m    320\u001b[0m     \u001b[38;5;28;01mif\u001b[39;00m \u001b[38;5;28misinstance\u001b[39m(data_to_wrap, \u001b[38;5;28mtuple\u001b[39m):\n\u001b[0;32m    321\u001b[0m         \u001b[38;5;66;03m# only wrap the first output for cross decomposition\u001b[39;00m\n\u001b[0;32m    322\u001b[0m         return_tuple \u001b[38;5;241m=\u001b[39m (\n\u001b[0;32m    323\u001b[0m             _wrap_data_with_container(method, data_to_wrap[\u001b[38;5;241m0\u001b[39m], X, \u001b[38;5;28mself\u001b[39m),\n\u001b[0;32m    324\u001b[0m             \u001b[38;5;241m*\u001b[39mdata_to_wrap[\u001b[38;5;241m1\u001b[39m:],\n\u001b[0;32m    325\u001b[0m         )\n",
      "File \u001b[1;32m~\\AppData\\Roaming\\Python\\Python313\\site-packages\\sklearn\\base.py:918\u001b[0m, in \u001b[0;36mTransformerMixin.fit_transform\u001b[1;34m(self, X, y, **fit_params)\u001b[0m\n\u001b[0;32m    903\u001b[0m         warnings\u001b[38;5;241m.\u001b[39mwarn(\n\u001b[0;32m    904\u001b[0m             (\n\u001b[0;32m    905\u001b[0m                 \u001b[38;5;124mf\u001b[39m\u001b[38;5;124m\"\u001b[39m\u001b[38;5;124mThis object (\u001b[39m\u001b[38;5;132;01m{\u001b[39;00m\u001b[38;5;28mself\u001b[39m\u001b[38;5;241m.\u001b[39m\u001b[38;5;18m__class__\u001b[39m\u001b[38;5;241m.\u001b[39m\u001b[38;5;18m__name__\u001b[39m\u001b[38;5;132;01m}\u001b[39;00m\u001b[38;5;124m) has a `transform`\u001b[39m\u001b[38;5;124m\"\u001b[39m\n\u001b[1;32m   (...)\u001b[0m\n\u001b[0;32m    913\u001b[0m             \u001b[38;5;167;01mUserWarning\u001b[39;00m,\n\u001b[0;32m    914\u001b[0m         )\n\u001b[0;32m    916\u001b[0m \u001b[38;5;28;01mif\u001b[39;00m y \u001b[38;5;129;01mis\u001b[39;00m \u001b[38;5;28;01mNone\u001b[39;00m:\n\u001b[0;32m    917\u001b[0m     \u001b[38;5;66;03m# fit method of arity 1 (unsupervised transformation)\u001b[39;00m\n\u001b[1;32m--> 918\u001b[0m     \u001b[38;5;28;01mreturn\u001b[39;00m \u001b[38;5;28;43mself\u001b[39;49m\u001b[38;5;241;43m.\u001b[39;49m\u001b[43mfit\u001b[49m\u001b[43m(\u001b[49m\u001b[43mX\u001b[49m\u001b[43m,\u001b[49m\u001b[43m \u001b[49m\u001b[38;5;241;43m*\u001b[39;49m\u001b[38;5;241;43m*\u001b[39;49m\u001b[43mfit_params\u001b[49m\u001b[43m)\u001b[49m\u001b[38;5;241m.\u001b[39mtransform(X)\n\u001b[0;32m    919\u001b[0m \u001b[38;5;28;01melse\u001b[39;00m:\n\u001b[0;32m    920\u001b[0m     \u001b[38;5;66;03m# fit method of arity 2 (supervised transformation)\u001b[39;00m\n\u001b[0;32m    921\u001b[0m     \u001b[38;5;28;01mreturn\u001b[39;00m \u001b[38;5;28mself\u001b[39m\u001b[38;5;241m.\u001b[39mfit(X, y, \u001b[38;5;241m*\u001b[39m\u001b[38;5;241m*\u001b[39mfit_params)\u001b[38;5;241m.\u001b[39mtransform(X)\n",
      "File \u001b[1;32m~\\AppData\\Roaming\\Python\\Python313\\site-packages\\sklearn\\preprocessing\\_data.py:894\u001b[0m, in \u001b[0;36mStandardScaler.fit\u001b[1;34m(self, X, y, sample_weight)\u001b[0m\n\u001b[0;32m    892\u001b[0m \u001b[38;5;66;03m# Reset internal state before fitting\u001b[39;00m\n\u001b[0;32m    893\u001b[0m \u001b[38;5;28mself\u001b[39m\u001b[38;5;241m.\u001b[39m_reset()\n\u001b[1;32m--> 894\u001b[0m \u001b[38;5;28;01mreturn\u001b[39;00m \u001b[38;5;28;43mself\u001b[39;49m\u001b[38;5;241;43m.\u001b[39;49m\u001b[43mpartial_fit\u001b[49m\u001b[43m(\u001b[49m\u001b[43mX\u001b[49m\u001b[43m,\u001b[49m\u001b[43m \u001b[49m\u001b[43my\u001b[49m\u001b[43m,\u001b[49m\u001b[43m \u001b[49m\u001b[43msample_weight\u001b[49m\u001b[43m)\u001b[49m\n",
      "File \u001b[1;32m~\\AppData\\Roaming\\Python\\Python313\\site-packages\\sklearn\\base.py:1389\u001b[0m, in \u001b[0;36m_fit_context.<locals>.decorator.<locals>.wrapper\u001b[1;34m(estimator, *args, **kwargs)\u001b[0m\n\u001b[0;32m   1382\u001b[0m     estimator\u001b[38;5;241m.\u001b[39m_validate_params()\n\u001b[0;32m   1384\u001b[0m \u001b[38;5;28;01mwith\u001b[39;00m config_context(\n\u001b[0;32m   1385\u001b[0m     skip_parameter_validation\u001b[38;5;241m=\u001b[39m(\n\u001b[0;32m   1386\u001b[0m         prefer_skip_nested_validation \u001b[38;5;129;01mor\u001b[39;00m global_skip_validation\n\u001b[0;32m   1387\u001b[0m     )\n\u001b[0;32m   1388\u001b[0m ):\n\u001b[1;32m-> 1389\u001b[0m     \u001b[38;5;28;01mreturn\u001b[39;00m \u001b[43mfit_method\u001b[49m\u001b[43m(\u001b[49m\u001b[43mestimator\u001b[49m\u001b[43m,\u001b[49m\u001b[43m \u001b[49m\u001b[38;5;241;43m*\u001b[39;49m\u001b[43margs\u001b[49m\u001b[43m,\u001b[49m\u001b[43m \u001b[49m\u001b[38;5;241;43m*\u001b[39;49m\u001b[38;5;241;43m*\u001b[39;49m\u001b[43mkwargs\u001b[49m\u001b[43m)\u001b[49m\n",
      "File \u001b[1;32m~\\AppData\\Roaming\\Python\\Python313\\site-packages\\sklearn\\preprocessing\\_data.py:930\u001b[0m, in \u001b[0;36mStandardScaler.partial_fit\u001b[1;34m(self, X, y, sample_weight)\u001b[0m\n\u001b[0;32m    898\u001b[0m \u001b[38;5;250m\u001b[39m\u001b[38;5;124;03m\"\"\"Online computation of mean and std on X for later scaling.\u001b[39;00m\n\u001b[0;32m    899\u001b[0m \n\u001b[0;32m    900\u001b[0m \u001b[38;5;124;03mAll of X is processed as a single batch. This is intended for cases\u001b[39;00m\n\u001b[1;32m   (...)\u001b[0m\n\u001b[0;32m    927\u001b[0m \u001b[38;5;124;03m    Fitted scaler.\u001b[39;00m\n\u001b[0;32m    928\u001b[0m \u001b[38;5;124;03m\"\"\"\u001b[39;00m\n\u001b[0;32m    929\u001b[0m first_call \u001b[38;5;241m=\u001b[39m \u001b[38;5;129;01mnot\u001b[39;00m \u001b[38;5;28mhasattr\u001b[39m(\u001b[38;5;28mself\u001b[39m, \u001b[38;5;124m\"\u001b[39m\u001b[38;5;124mn_samples_seen_\u001b[39m\u001b[38;5;124m\"\u001b[39m)\n\u001b[1;32m--> 930\u001b[0m X \u001b[38;5;241m=\u001b[39m \u001b[43mvalidate_data\u001b[49m\u001b[43m(\u001b[49m\n\u001b[0;32m    931\u001b[0m \u001b[43m    \u001b[49m\u001b[38;5;28;43mself\u001b[39;49m\u001b[43m,\u001b[49m\n\u001b[0;32m    932\u001b[0m \u001b[43m    \u001b[49m\u001b[43mX\u001b[49m\u001b[43m,\u001b[49m\n\u001b[0;32m    933\u001b[0m \u001b[43m    \u001b[49m\u001b[43maccept_sparse\u001b[49m\u001b[38;5;241;43m=\u001b[39;49m\u001b[43m(\u001b[49m\u001b[38;5;124;43m\"\u001b[39;49m\u001b[38;5;124;43mcsr\u001b[39;49m\u001b[38;5;124;43m\"\u001b[39;49m\u001b[43m,\u001b[49m\u001b[43m \u001b[49m\u001b[38;5;124;43m\"\u001b[39;49m\u001b[38;5;124;43mcsc\u001b[39;49m\u001b[38;5;124;43m\"\u001b[39;49m\u001b[43m)\u001b[49m\u001b[43m,\u001b[49m\n\u001b[0;32m    934\u001b[0m \u001b[43m    \u001b[49m\u001b[43mdtype\u001b[49m\u001b[38;5;241;43m=\u001b[39;49m\u001b[43mFLOAT_DTYPES\u001b[49m\u001b[43m,\u001b[49m\n\u001b[0;32m    935\u001b[0m \u001b[43m    \u001b[49m\u001b[43mensure_all_finite\u001b[49m\u001b[38;5;241;43m=\u001b[39;49m\u001b[38;5;124;43m\"\u001b[39;49m\u001b[38;5;124;43mallow-nan\u001b[39;49m\u001b[38;5;124;43m\"\u001b[39;49m\u001b[43m,\u001b[49m\n\u001b[0;32m    936\u001b[0m \u001b[43m    \u001b[49m\u001b[43mreset\u001b[49m\u001b[38;5;241;43m=\u001b[39;49m\u001b[43mfirst_call\u001b[49m\u001b[43m,\u001b[49m\n\u001b[0;32m    937\u001b[0m \u001b[43m\u001b[49m\u001b[43m)\u001b[49m\n\u001b[0;32m    938\u001b[0m n_features \u001b[38;5;241m=\u001b[39m X\u001b[38;5;241m.\u001b[39mshape[\u001b[38;5;241m1\u001b[39m]\n\u001b[0;32m    940\u001b[0m \u001b[38;5;28;01mif\u001b[39;00m sample_weight \u001b[38;5;129;01mis\u001b[39;00m \u001b[38;5;129;01mnot\u001b[39;00m \u001b[38;5;28;01mNone\u001b[39;00m:\n",
      "File \u001b[1;32m~\\AppData\\Roaming\\Python\\Python313\\site-packages\\sklearn\\utils\\validation.py:2944\u001b[0m, in \u001b[0;36mvalidate_data\u001b[1;34m(_estimator, X, y, reset, validate_separately, skip_check_array, **check_params)\u001b[0m\n\u001b[0;32m   2942\u001b[0m         out \u001b[38;5;241m=\u001b[39m X, y\n\u001b[0;32m   2943\u001b[0m \u001b[38;5;28;01melif\u001b[39;00m \u001b[38;5;129;01mnot\u001b[39;00m no_val_X \u001b[38;5;129;01mand\u001b[39;00m no_val_y:\n\u001b[1;32m-> 2944\u001b[0m     out \u001b[38;5;241m=\u001b[39m \u001b[43mcheck_array\u001b[49m\u001b[43m(\u001b[49m\u001b[43mX\u001b[49m\u001b[43m,\u001b[49m\u001b[43m \u001b[49m\u001b[43minput_name\u001b[49m\u001b[38;5;241;43m=\u001b[39;49m\u001b[38;5;124;43m\"\u001b[39;49m\u001b[38;5;124;43mX\u001b[39;49m\u001b[38;5;124;43m\"\u001b[39;49m\u001b[43m,\u001b[49m\u001b[43m \u001b[49m\u001b[38;5;241;43m*\u001b[39;49m\u001b[38;5;241;43m*\u001b[39;49m\u001b[43mcheck_params\u001b[49m\u001b[43m)\u001b[49m\n\u001b[0;32m   2945\u001b[0m \u001b[38;5;28;01melif\u001b[39;00m no_val_X \u001b[38;5;129;01mand\u001b[39;00m \u001b[38;5;129;01mnot\u001b[39;00m no_val_y:\n\u001b[0;32m   2946\u001b[0m     out \u001b[38;5;241m=\u001b[39m _check_y(y, \u001b[38;5;241m*\u001b[39m\u001b[38;5;241m*\u001b[39mcheck_params)\n",
      "File \u001b[1;32m~\\AppData\\Roaming\\Python\\Python313\\site-packages\\sklearn\\utils\\validation.py:973\u001b[0m, in \u001b[0;36mcheck_array\u001b[1;34m(array, accept_sparse, accept_large_sparse, dtype, order, copy, force_writeable, force_all_finite, ensure_all_finite, ensure_non_negative, ensure_2d, allow_nd, ensure_min_samples, ensure_min_features, estimator, input_name)\u001b[0m\n\u001b[0;32m    968\u001b[0m \u001b[38;5;28;01mif\u001b[39;00m pandas_requires_conversion:\n\u001b[0;32m    969\u001b[0m     \u001b[38;5;66;03m# pandas dataframe requires conversion earlier to handle extension dtypes with\u001b[39;00m\n\u001b[0;32m    970\u001b[0m     \u001b[38;5;66;03m# nans\u001b[39;00m\n\u001b[0;32m    971\u001b[0m     \u001b[38;5;66;03m# Use the original dtype for conversion if dtype is None\u001b[39;00m\n\u001b[0;32m    972\u001b[0m     new_dtype \u001b[38;5;241m=\u001b[39m dtype_orig \u001b[38;5;28;01mif\u001b[39;00m dtype \u001b[38;5;129;01mis\u001b[39;00m \u001b[38;5;28;01mNone\u001b[39;00m \u001b[38;5;28;01melse\u001b[39;00m dtype\n\u001b[1;32m--> 973\u001b[0m     array \u001b[38;5;241m=\u001b[39m \u001b[43marray\u001b[49m\u001b[38;5;241;43m.\u001b[39;49m\u001b[43mastype\u001b[49m\u001b[43m(\u001b[49m\u001b[43mnew_dtype\u001b[49m\u001b[43m)\u001b[49m\n\u001b[0;32m    974\u001b[0m     \u001b[38;5;66;03m# Since we converted here, we do not need to convert again later\u001b[39;00m\n\u001b[0;32m    975\u001b[0m     dtype \u001b[38;5;241m=\u001b[39m \u001b[38;5;28;01mNone\u001b[39;00m\n",
      "File \u001b[1;32m~\\AppData\\Roaming\\Python\\Python313\\site-packages\\pandas\\core\\generic.py:6643\u001b[0m, in \u001b[0;36mNDFrame.astype\u001b[1;34m(self, dtype, copy, errors)\u001b[0m\n\u001b[0;32m   6637\u001b[0m     results \u001b[38;5;241m=\u001b[39m [\n\u001b[0;32m   6638\u001b[0m         ser\u001b[38;5;241m.\u001b[39mastype(dtype, copy\u001b[38;5;241m=\u001b[39mcopy, errors\u001b[38;5;241m=\u001b[39merrors) \u001b[38;5;28;01mfor\u001b[39;00m _, ser \u001b[38;5;129;01min\u001b[39;00m \u001b[38;5;28mself\u001b[39m\u001b[38;5;241m.\u001b[39mitems()\n\u001b[0;32m   6639\u001b[0m     ]\n\u001b[0;32m   6641\u001b[0m \u001b[38;5;28;01melse\u001b[39;00m:\n\u001b[0;32m   6642\u001b[0m     \u001b[38;5;66;03m# else, only a single dtype is given\u001b[39;00m\n\u001b[1;32m-> 6643\u001b[0m     new_data \u001b[38;5;241m=\u001b[39m \u001b[38;5;28;43mself\u001b[39;49m\u001b[38;5;241;43m.\u001b[39;49m\u001b[43m_mgr\u001b[49m\u001b[38;5;241;43m.\u001b[39;49m\u001b[43mastype\u001b[49m\u001b[43m(\u001b[49m\u001b[43mdtype\u001b[49m\u001b[38;5;241;43m=\u001b[39;49m\u001b[43mdtype\u001b[49m\u001b[43m,\u001b[49m\u001b[43m \u001b[49m\u001b[43mcopy\u001b[49m\u001b[38;5;241;43m=\u001b[39;49m\u001b[43mcopy\u001b[49m\u001b[43m,\u001b[49m\u001b[43m \u001b[49m\u001b[43merrors\u001b[49m\u001b[38;5;241;43m=\u001b[39;49m\u001b[43merrors\u001b[49m\u001b[43m)\u001b[49m\n\u001b[0;32m   6644\u001b[0m     res \u001b[38;5;241m=\u001b[39m \u001b[38;5;28mself\u001b[39m\u001b[38;5;241m.\u001b[39m_constructor_from_mgr(new_data, axes\u001b[38;5;241m=\u001b[39mnew_data\u001b[38;5;241m.\u001b[39maxes)\n\u001b[0;32m   6645\u001b[0m     \u001b[38;5;28;01mreturn\u001b[39;00m res\u001b[38;5;241m.\u001b[39m__finalize__(\u001b[38;5;28mself\u001b[39m, method\u001b[38;5;241m=\u001b[39m\u001b[38;5;124m\"\u001b[39m\u001b[38;5;124mastype\u001b[39m\u001b[38;5;124m\"\u001b[39m)\n",
      "File \u001b[1;32m~\\AppData\\Roaming\\Python\\Python313\\site-packages\\pandas\\core\\internals\\managers.py:430\u001b[0m, in \u001b[0;36mBaseBlockManager.astype\u001b[1;34m(self, dtype, copy, errors)\u001b[0m\n\u001b[0;32m    427\u001b[0m \u001b[38;5;28;01melif\u001b[39;00m using_copy_on_write():\n\u001b[0;32m    428\u001b[0m     copy \u001b[38;5;241m=\u001b[39m \u001b[38;5;28;01mFalse\u001b[39;00m\n\u001b[1;32m--> 430\u001b[0m \u001b[38;5;28;01mreturn\u001b[39;00m \u001b[38;5;28;43mself\u001b[39;49m\u001b[38;5;241;43m.\u001b[39;49m\u001b[43mapply\u001b[49m\u001b[43m(\u001b[49m\n\u001b[0;32m    431\u001b[0m \u001b[43m    \u001b[49m\u001b[38;5;124;43m\"\u001b[39;49m\u001b[38;5;124;43mastype\u001b[39;49m\u001b[38;5;124;43m\"\u001b[39;49m\u001b[43m,\u001b[49m\n\u001b[0;32m    432\u001b[0m \u001b[43m    \u001b[49m\u001b[43mdtype\u001b[49m\u001b[38;5;241;43m=\u001b[39;49m\u001b[43mdtype\u001b[49m\u001b[43m,\u001b[49m\n\u001b[0;32m    433\u001b[0m \u001b[43m    \u001b[49m\u001b[43mcopy\u001b[49m\u001b[38;5;241;43m=\u001b[39;49m\u001b[43mcopy\u001b[49m\u001b[43m,\u001b[49m\n\u001b[0;32m    434\u001b[0m \u001b[43m    \u001b[49m\u001b[43merrors\u001b[49m\u001b[38;5;241;43m=\u001b[39;49m\u001b[43merrors\u001b[49m\u001b[43m,\u001b[49m\n\u001b[0;32m    435\u001b[0m \u001b[43m    \u001b[49m\u001b[43musing_cow\u001b[49m\u001b[38;5;241;43m=\u001b[39;49m\u001b[43musing_copy_on_write\u001b[49m\u001b[43m(\u001b[49m\u001b[43m)\u001b[49m\u001b[43m,\u001b[49m\n\u001b[0;32m    436\u001b[0m \u001b[43m\u001b[49m\u001b[43m)\u001b[49m\n",
      "File \u001b[1;32m~\\AppData\\Roaming\\Python\\Python313\\site-packages\\pandas\\core\\internals\\managers.py:363\u001b[0m, in \u001b[0;36mBaseBlockManager.apply\u001b[1;34m(self, f, align_keys, **kwargs)\u001b[0m\n\u001b[0;32m    361\u001b[0m         applied \u001b[38;5;241m=\u001b[39m b\u001b[38;5;241m.\u001b[39mapply(f, \u001b[38;5;241m*\u001b[39m\u001b[38;5;241m*\u001b[39mkwargs)\n\u001b[0;32m    362\u001b[0m     \u001b[38;5;28;01melse\u001b[39;00m:\n\u001b[1;32m--> 363\u001b[0m         applied \u001b[38;5;241m=\u001b[39m \u001b[38;5;28;43mgetattr\u001b[39;49m\u001b[43m(\u001b[49m\u001b[43mb\u001b[49m\u001b[43m,\u001b[49m\u001b[43m \u001b[49m\u001b[43mf\u001b[49m\u001b[43m)\u001b[49m\u001b[43m(\u001b[49m\u001b[38;5;241;43m*\u001b[39;49m\u001b[38;5;241;43m*\u001b[39;49m\u001b[43mkwargs\u001b[49m\u001b[43m)\u001b[49m\n\u001b[0;32m    364\u001b[0m     result_blocks \u001b[38;5;241m=\u001b[39m extend_blocks(applied, result_blocks)\n\u001b[0;32m    366\u001b[0m out \u001b[38;5;241m=\u001b[39m \u001b[38;5;28mtype\u001b[39m(\u001b[38;5;28mself\u001b[39m)\u001b[38;5;241m.\u001b[39mfrom_blocks(result_blocks, \u001b[38;5;28mself\u001b[39m\u001b[38;5;241m.\u001b[39maxes)\n",
      "File \u001b[1;32m~\\AppData\\Roaming\\Python\\Python313\\site-packages\\pandas\\core\\internals\\blocks.py:758\u001b[0m, in \u001b[0;36mBlock.astype\u001b[1;34m(self, dtype, copy, errors, using_cow, squeeze)\u001b[0m\n\u001b[0;32m    755\u001b[0m         \u001b[38;5;28;01mraise\u001b[39;00m \u001b[38;5;167;01mValueError\u001b[39;00m(\u001b[38;5;124m\"\u001b[39m\u001b[38;5;124mCan not squeeze with more than one column.\u001b[39m\u001b[38;5;124m\"\u001b[39m)\n\u001b[0;32m    756\u001b[0m     values \u001b[38;5;241m=\u001b[39m values[\u001b[38;5;241m0\u001b[39m, :]  \u001b[38;5;66;03m# type: ignore[call-overload]\u001b[39;00m\n\u001b[1;32m--> 758\u001b[0m new_values \u001b[38;5;241m=\u001b[39m \u001b[43mastype_array_safe\u001b[49m\u001b[43m(\u001b[49m\u001b[43mvalues\u001b[49m\u001b[43m,\u001b[49m\u001b[43m \u001b[49m\u001b[43mdtype\u001b[49m\u001b[43m,\u001b[49m\u001b[43m \u001b[49m\u001b[43mcopy\u001b[49m\u001b[38;5;241;43m=\u001b[39;49m\u001b[43mcopy\u001b[49m\u001b[43m,\u001b[49m\u001b[43m \u001b[49m\u001b[43merrors\u001b[49m\u001b[38;5;241;43m=\u001b[39;49m\u001b[43merrors\u001b[49m\u001b[43m)\u001b[49m\n\u001b[0;32m    760\u001b[0m new_values \u001b[38;5;241m=\u001b[39m maybe_coerce_values(new_values)\n\u001b[0;32m    762\u001b[0m refs \u001b[38;5;241m=\u001b[39m \u001b[38;5;28;01mNone\u001b[39;00m\n",
      "File \u001b[1;32m~\\AppData\\Roaming\\Python\\Python313\\site-packages\\pandas\\core\\dtypes\\astype.py:237\u001b[0m, in \u001b[0;36mastype_array_safe\u001b[1;34m(values, dtype, copy, errors)\u001b[0m\n\u001b[0;32m    234\u001b[0m     dtype \u001b[38;5;241m=\u001b[39m dtype\u001b[38;5;241m.\u001b[39mnumpy_dtype\n\u001b[0;32m    236\u001b[0m \u001b[38;5;28;01mtry\u001b[39;00m:\n\u001b[1;32m--> 237\u001b[0m     new_values \u001b[38;5;241m=\u001b[39m \u001b[43mastype_array\u001b[49m\u001b[43m(\u001b[49m\u001b[43mvalues\u001b[49m\u001b[43m,\u001b[49m\u001b[43m \u001b[49m\u001b[43mdtype\u001b[49m\u001b[43m,\u001b[49m\u001b[43m \u001b[49m\u001b[43mcopy\u001b[49m\u001b[38;5;241;43m=\u001b[39;49m\u001b[43mcopy\u001b[49m\u001b[43m)\u001b[49m\n\u001b[0;32m    238\u001b[0m \u001b[38;5;28;01mexcept\u001b[39;00m (\u001b[38;5;167;01mValueError\u001b[39;00m, \u001b[38;5;167;01mTypeError\u001b[39;00m):\n\u001b[0;32m    239\u001b[0m     \u001b[38;5;66;03m# e.g. _astype_nansafe can fail on object-dtype of strings\u001b[39;00m\n\u001b[0;32m    240\u001b[0m     \u001b[38;5;66;03m#  trying to convert to float\u001b[39;00m\n\u001b[0;32m    241\u001b[0m     \u001b[38;5;28;01mif\u001b[39;00m errors \u001b[38;5;241m==\u001b[39m \u001b[38;5;124m\"\u001b[39m\u001b[38;5;124mignore\u001b[39m\u001b[38;5;124m\"\u001b[39m:\n",
      "File \u001b[1;32m~\\AppData\\Roaming\\Python\\Python313\\site-packages\\pandas\\core\\dtypes\\astype.py:182\u001b[0m, in \u001b[0;36mastype_array\u001b[1;34m(values, dtype, copy)\u001b[0m\n\u001b[0;32m    179\u001b[0m     values \u001b[38;5;241m=\u001b[39m values\u001b[38;5;241m.\u001b[39mastype(dtype, copy\u001b[38;5;241m=\u001b[39mcopy)\n\u001b[0;32m    181\u001b[0m \u001b[38;5;28;01melse\u001b[39;00m:\n\u001b[1;32m--> 182\u001b[0m     values \u001b[38;5;241m=\u001b[39m \u001b[43m_astype_nansafe\u001b[49m\u001b[43m(\u001b[49m\u001b[43mvalues\u001b[49m\u001b[43m,\u001b[49m\u001b[43m \u001b[49m\u001b[43mdtype\u001b[49m\u001b[43m,\u001b[49m\u001b[43m \u001b[49m\u001b[43mcopy\u001b[49m\u001b[38;5;241;43m=\u001b[39;49m\u001b[43mcopy\u001b[49m\u001b[43m)\u001b[49m\n\u001b[0;32m    184\u001b[0m \u001b[38;5;66;03m# in pandas we don't store numpy str dtypes, so convert to object\u001b[39;00m\n\u001b[0;32m    185\u001b[0m \u001b[38;5;28;01mif\u001b[39;00m \u001b[38;5;28misinstance\u001b[39m(dtype, np\u001b[38;5;241m.\u001b[39mdtype) \u001b[38;5;129;01mand\u001b[39;00m \u001b[38;5;28missubclass\u001b[39m(values\u001b[38;5;241m.\u001b[39mdtype\u001b[38;5;241m.\u001b[39mtype, \u001b[38;5;28mstr\u001b[39m):\n",
      "File \u001b[1;32m~\\AppData\\Roaming\\Python\\Python313\\site-packages\\pandas\\core\\dtypes\\astype.py:133\u001b[0m, in \u001b[0;36m_astype_nansafe\u001b[1;34m(arr, dtype, copy, skipna)\u001b[0m\n\u001b[0;32m    129\u001b[0m     \u001b[38;5;28;01mraise\u001b[39;00m \u001b[38;5;167;01mValueError\u001b[39;00m(msg)\n\u001b[0;32m    131\u001b[0m \u001b[38;5;28;01mif\u001b[39;00m copy \u001b[38;5;129;01mor\u001b[39;00m arr\u001b[38;5;241m.\u001b[39mdtype \u001b[38;5;241m==\u001b[39m \u001b[38;5;28mobject\u001b[39m \u001b[38;5;129;01mor\u001b[39;00m dtype \u001b[38;5;241m==\u001b[39m \u001b[38;5;28mobject\u001b[39m:\n\u001b[0;32m    132\u001b[0m     \u001b[38;5;66;03m# Explicit copy, or required since NumPy can't view from / to object.\u001b[39;00m\n\u001b[1;32m--> 133\u001b[0m     \u001b[38;5;28;01mreturn\u001b[39;00m \u001b[43marr\u001b[49m\u001b[38;5;241;43m.\u001b[39;49m\u001b[43mastype\u001b[49m\u001b[43m(\u001b[49m\u001b[43mdtype\u001b[49m\u001b[43m,\u001b[49m\u001b[43m \u001b[49m\u001b[43mcopy\u001b[49m\u001b[38;5;241;43m=\u001b[39;49m\u001b[38;5;28;43;01mTrue\u001b[39;49;00m\u001b[43m)\u001b[49m\n\u001b[0;32m    135\u001b[0m \u001b[38;5;28;01mreturn\u001b[39;00m arr\u001b[38;5;241m.\u001b[39mastype(dtype, copy\u001b[38;5;241m=\u001b[39mcopy)\n",
      "\u001b[1;31mValueError\u001b[0m: could not convert string to float: 'TCS'"
     ]
    }
   ],
   "source": [
    "# Initialize the scalers\n",
    "standard_scaler = StandardScaler()\n",
    "minmax_scaler = MinMaxScaler()\n",
    "\n",
    "# Apply StandardScaler\n",
    "df_standard_scaled = pd.DataFrame(standard_scaler.fit_transform(df_one_hot), columns=df_encoded.columns)\n",
    "\n",
    "# Apply MinMaxScaler\n",
    "df_minmax_scaled = pd.DataFrame(minmax_scaler.fit_transform(df_one_hot), columns=df_encoded.columns)\n",
    "\n",
    "print(\"Standard Scaled DataFrame:\")\n",
    "print(df_standard_scaled)\n",
    "\n",
    "print(\"\\nMinMax Scaled DataFrame:\")\n",
    "print(df_minmax_scaled)"
   ]
  },
  {
   "cell_type": "markdown",
   "id": "2337bfbe-216f-44a5-aacf-3a98a05bc1ef",
   "metadata": {},
   "source": [
    "Feature Scaling"
   ]
  },
  {
   "cell_type": "code",
   "execution_count": 104,
   "id": "5117dc61-407f-4596-8403-edaec7477f38",
   "metadata": {},
   "outputs": [
    {
     "name": "stdout",
     "output_type": "stream",
     "text": [
      "      Age  Salary\n",
      "2    35.0  2300.0\n",
      "3    40.0  3000.0\n",
      "4    23.0  4000.0\n",
      "7    23.0  7000.0\n",
      "8    34.0  8000.0\n",
      "..    ...     ...\n",
      "142  22.0  8202.0\n",
      "143  33.0  9024.0\n",
      "145  44.0  4034.0\n",
      "146  33.0  5034.0\n",
      "147  22.0  8202.0\n",
      "\n",
      "[91 rows x 2 columns]\n"
     ]
    }
   ],
   "source": [
    "data=df_dropped.iloc[ : ,[1,2]]\n",
    "print(data)"
   ]
  },
  {
   "cell_type": "code",
   "execution_count": 105,
   "id": "f2231ea2-9c82-43d7-9d90-7483bf32c1ad",
   "metadata": {},
   "outputs": [
    {
     "name": "stdout",
     "output_type": "stream",
     "text": [
      "StandardScaler()\n"
     ]
    }
   ],
   "source": [
    "scaler=StandardScaler().fit(data)\n",
    "print(scaler)"
   ]
  },
  {
   "cell_type": "code",
   "execution_count": 108,
   "id": "8c6bbfb6-433d-4ba5-a535-077807cbf010",
   "metadata": {
    "scrolled": true
   },
   "outputs": [
    {
     "name": "stdout",
     "output_type": "stream",
     "text": [
      "[[ 0.37525828 -0.95927318]\n",
      " [ 0.78867843 -0.69709684]\n",
      " [-0.61695006 -0.32255921]\n",
      " [-0.61695006  0.80105367]\n",
      " [ 0.29257426  1.1755913 ]\n",
      " [ 1.20209857  1.55012893]\n",
      " [ 0.29257426 -1.41283825]\n",
      " [-1.0303702  -1.3585303 ]\n",
      " [ 0.78867843 -0.69709684]\n",
      " [-0.61695006 -0.69709684]\n",
      " [-0.61695006 -0.68586071]\n",
      " [ 0.29257426  0.05197841]\n",
      " [ 0.54062634 -0.68024265]\n",
      " [ 1.61551871 -0.62818192]\n",
      " [-0.78231812 -0.01394021]\n",
      " [-0.61695006  1.52878029]\n",
      " [ 0.29257426  1.30480678]\n",
      " [ 1.20209857  1.65649762]\n",
      " [-0.61695006  1.87822389]\n",
      " [ 0.37525828 -1.05890019]\n",
      " [ 1.2847826   1.04600128]\n",
      " [-0.86500215 -0.72181633]\n",
      " [ 1.20209857 -0.30982494]\n",
      " [ 0.29257426 -0.95927318]\n",
      " [ 0.87136246 -0.69709684]\n",
      " [-0.53426603 -0.19334373]\n",
      " [ 0.37525828  1.1755913 ]\n",
      " [ 1.2847826   1.55012893]\n",
      " [ 0.1272062  -1.41283825]\n",
      " [-0.94768617 -1.3585303 ]\n",
      " [ 0.87136246 -0.69709684]\n",
      " [-0.78231812 -0.68586071]\n",
      " [ 0.37525828  0.05197841]\n",
      " [-0.78231812  0.63026451]\n",
      " [ 0.1272062   1.04600128]\n",
      " [ 0.62331037 -0.68024265]\n",
      " [ 1.69820274 -0.62818192]\n",
      " [-0.61695006 -0.01394021]\n",
      " [ 0.04452217 -1.05890019]\n",
      " [-0.78231812 -0.72181633]\n",
      " [ 1.03673051 -0.30982494]\n",
      " [ 0.1272062   0.06471269]\n",
      " [-0.78231812  1.2512479 ]\n",
      " [ 0.29257426  1.55911783]\n",
      " [ 0.54062634 -0.95927318]\n",
      " [ 1.11941454 -0.69709684]\n",
      " [ 0.1272062  -0.32255921]\n",
      " [-0.36889797  0.80105367]\n",
      " [ 0.1272062   1.1755913 ]\n",
      " [ 1.03673051  1.55012893]\n",
      " [ 0.20989023 -1.41283825]\n",
      " [-1.11305423 -1.3585303 ]\n",
      " [ 0.87136246 -0.69709684]\n",
      " [-0.78231812 -0.69709684]\n",
      " [-2.51868272 -0.68586071]\n",
      " [ 0.45794231  0.05197841]\n",
      " [-2.51868272 -0.68024265]\n",
      " [ 1.94625483 -0.62818192]\n",
      " [-0.69963409 -0.01394021]\n",
      " [-0.69963409  1.52878029]\n",
      " [ 0.20989023  1.30480678]\n",
      " [ 1.11941454  1.65649762]\n",
      " [-2.51868272 -1.05890019]\n",
      " [-0.69963409 -0.72181633]\n",
      " [ 1.11941454 -0.30982494]\n",
      " [ 0.20989023  0.06471269]\n",
      " [-0.69963409  1.2512479 ]\n",
      " [-2.51868272  1.55911783]\n",
      " [ 0.20989023 -0.95927318]\n",
      " [-2.51868272 -0.60945504]\n",
      " [-0.69963409 -0.20120902]\n",
      " [-0.69963409  1.47035242]\n",
      " [ 0.20989023 -1.41283825]\n",
      " [-2.51868272 -1.3585303 ]\n",
      " [ 1.11941454 -0.60945504]\n",
      " [-0.69963409  1.47035242]\n",
      " [-0.03816186  0.0886831 ]\n",
      " [ 0.20989023 -0.68024265]\n",
      " [ 1.61551871 -0.62818192]\n",
      " [ 0.04452217  1.30480678]\n",
      " [ 0.78867843  1.65649762]\n",
      " [ 0.04452217 -1.05890019]\n",
      " [ 1.11941454 -0.6847371 ]\n",
      " [-0.69963409 -0.72181633]\n",
      " [ 1.11941454 -0.30982494]\n",
      " [ 0.20989023  0.06471269]\n",
      " [-0.69963409  1.2512479 ]\n",
      " [ 0.20989023  1.55911783]\n",
      " [ 1.11941454 -0.30982494]\n",
      " [ 0.20989023  0.06471269]\n",
      " [-0.69963409  1.2512479 ]]\n"
     ]
    }
   ],
   "source": [
    "data_scaled=scaler.transform(data)\n",
    "print(data_scaled)"
   ]
  },
  {
   "cell_type": "code",
   "execution_count": 109,
   "id": "a55e6272-a4fc-4a81-a2b1-1afd59d00a67",
   "metadata": {},
   "outputs": [
    {
     "name": "stdout",
     "output_type": "stream",
     "text": [
      "[ 1.35422808e-16 -1.56163239e-16]\n"
     ]
    }
   ],
   "source": [
    "print(data_scaled.mean(axis=0))"
   ]
  },
  {
   "cell_type": "code",
   "execution_count": 110,
   "id": "bb7c1da7-f294-4340-bbdf-e0c6b3fcf3ab",
   "metadata": {},
   "outputs": [
    {
     "name": "stdout",
     "output_type": "stream",
     "text": [
      "[1. 1.]\n"
     ]
    }
   ],
   "source": [
    "print(data_scaled.std(axis=0))"
   ]
  },
  {
   "cell_type": "code",
   "execution_count": 111,
   "id": "ce4d5d54-61bf-419f-ae7f-2bd6da0b814f",
   "metadata": {},
   "outputs": [
    {
     "data": {
      "text/html": [
       "<div>\n",
       "<style scoped>\n",
       "    .dataframe tbody tr th:only-of-type {\n",
       "        vertical-align: middle;\n",
       "    }\n",
       "\n",
       "    .dataframe tbody tr th {\n",
       "        vertical-align: top;\n",
       "    }\n",
       "\n",
       "    .dataframe thead th {\n",
       "        text-align: right;\n",
       "    }\n",
       "</style>\n",
       "<table border=\"1\" class=\"dataframe\">\n",
       "  <thead>\n",
       "    <tr style=\"text-align: right;\">\n",
       "      <th></th>\n",
       "      <th>Age</th>\n",
       "      <th>Salary</th>\n",
       "    </tr>\n",
       "  </thead>\n",
       "  <tbody>\n",
       "    <tr>\n",
       "      <th>0</th>\n",
       "      <td>0.375258</td>\n",
       "      <td>-0.959273</td>\n",
       "    </tr>\n",
       "    <tr>\n",
       "      <th>1</th>\n",
       "      <td>0.788678</td>\n",
       "      <td>-0.697097</td>\n",
       "    </tr>\n",
       "    <tr>\n",
       "      <th>2</th>\n",
       "      <td>-0.616950</td>\n",
       "      <td>-0.322559</td>\n",
       "    </tr>\n",
       "    <tr>\n",
       "      <th>3</th>\n",
       "      <td>-0.616950</td>\n",
       "      <td>0.801054</td>\n",
       "    </tr>\n",
       "    <tr>\n",
       "      <th>4</th>\n",
       "      <td>0.292574</td>\n",
       "      <td>1.175591</td>\n",
       "    </tr>\n",
       "    <tr>\n",
       "      <th>...</th>\n",
       "      <td>...</td>\n",
       "      <td>...</td>\n",
       "    </tr>\n",
       "    <tr>\n",
       "      <th>86</th>\n",
       "      <td>-0.699634</td>\n",
       "      <td>1.251248</td>\n",
       "    </tr>\n",
       "    <tr>\n",
       "      <th>87</th>\n",
       "      <td>0.209890</td>\n",
       "      <td>1.559118</td>\n",
       "    </tr>\n",
       "    <tr>\n",
       "      <th>88</th>\n",
       "      <td>1.119415</td>\n",
       "      <td>-0.309825</td>\n",
       "    </tr>\n",
       "    <tr>\n",
       "      <th>89</th>\n",
       "      <td>0.209890</td>\n",
       "      <td>0.064713</td>\n",
       "    </tr>\n",
       "    <tr>\n",
       "      <th>90</th>\n",
       "      <td>-0.699634</td>\n",
       "      <td>1.251248</td>\n",
       "    </tr>\n",
       "  </tbody>\n",
       "</table>\n",
       "<p>91 rows × 2 columns</p>\n",
       "</div>"
      ],
      "text/plain": [
       "         Age    Salary\n",
       "0   0.375258 -0.959273\n",
       "1   0.788678 -0.697097\n",
       "2  -0.616950 -0.322559\n",
       "3  -0.616950  0.801054\n",
       "4   0.292574  1.175591\n",
       "..       ...       ...\n",
       "86 -0.699634  1.251248\n",
       "87  0.209890  1.559118\n",
       "88  1.119415 -0.309825\n",
       "89  0.209890  0.064713\n",
       "90 -0.699634  1.251248\n",
       "\n",
       "[91 rows x 2 columns]"
      ]
     },
     "execution_count": 111,
     "metadata": {},
     "output_type": "execute_result"
    }
   ],
   "source": [
    "scaled_data_set=pd.DataFrame(data_scaled,columns=data.columns)\n",
    "scaled_data_set"
   ]
  },
  {
   "cell_type": "code",
   "execution_count": 112,
   "id": "0b786ba3-c48b-4fd1-9a11-40583ef55b67",
   "metadata": {},
   "outputs": [
    {
     "data": {
      "text/html": [
       "<div>\n",
       "<style scoped>\n",
       "    .dataframe tbody tr th:only-of-type {\n",
       "        vertical-align: middle;\n",
       "    }\n",
       "\n",
       "    .dataframe tbody tr th {\n",
       "        vertical-align: top;\n",
       "    }\n",
       "\n",
       "    .dataframe thead th {\n",
       "        text-align: right;\n",
       "    }\n",
       "</style>\n",
       "<table border=\"1\" class=\"dataframe\">\n",
       "  <thead>\n",
       "    <tr style=\"text-align: right;\">\n",
       "      <th></th>\n",
       "      <th>Age</th>\n",
       "      <th>Salary</th>\n",
       "    </tr>\n",
       "  </thead>\n",
       "  <tbody>\n",
       "    <tr>\n",
       "      <th>2</th>\n",
       "      <td>35.0</td>\n",
       "      <td>2300.0</td>\n",
       "    </tr>\n",
       "    <tr>\n",
       "      <th>3</th>\n",
       "      <td>40.0</td>\n",
       "      <td>3000.0</td>\n",
       "    </tr>\n",
       "    <tr>\n",
       "      <th>4</th>\n",
       "      <td>23.0</td>\n",
       "      <td>4000.0</td>\n",
       "    </tr>\n",
       "    <tr>\n",
       "      <th>7</th>\n",
       "      <td>23.0</td>\n",
       "      <td>7000.0</td>\n",
       "    </tr>\n",
       "    <tr>\n",
       "      <th>8</th>\n",
       "      <td>34.0</td>\n",
       "      <td>8000.0</td>\n",
       "    </tr>\n",
       "    <tr>\n",
       "      <th>...</th>\n",
       "      <td>...</td>\n",
       "      <td>...</td>\n",
       "    </tr>\n",
       "    <tr>\n",
       "      <th>142</th>\n",
       "      <td>22.0</td>\n",
       "      <td>8202.0</td>\n",
       "    </tr>\n",
       "    <tr>\n",
       "      <th>143</th>\n",
       "      <td>33.0</td>\n",
       "      <td>9024.0</td>\n",
       "    </tr>\n",
       "    <tr>\n",
       "      <th>145</th>\n",
       "      <td>44.0</td>\n",
       "      <td>4034.0</td>\n",
       "    </tr>\n",
       "    <tr>\n",
       "      <th>146</th>\n",
       "      <td>33.0</td>\n",
       "      <td>5034.0</td>\n",
       "    </tr>\n",
       "    <tr>\n",
       "      <th>147</th>\n",
       "      <td>22.0</td>\n",
       "      <td>8202.0</td>\n",
       "    </tr>\n",
       "  </tbody>\n",
       "</table>\n",
       "<p>91 rows × 2 columns</p>\n",
       "</div>"
      ],
      "text/plain": [
       "      Age  Salary\n",
       "2    35.0  2300.0\n",
       "3    40.0  3000.0\n",
       "4    23.0  4000.0\n",
       "7    23.0  7000.0\n",
       "8    34.0  8000.0\n",
       "..    ...     ...\n",
       "142  22.0  8202.0\n",
       "143  33.0  9024.0\n",
       "145  44.0  4034.0\n",
       "146  33.0  5034.0\n",
       "147  22.0  8202.0\n",
       "\n",
       "[91 rows x 2 columns]"
      ]
     },
     "execution_count": 112,
     "metadata": {},
     "output_type": "execute_result"
    }
   ],
   "source": [
    "data=df.iloc[ : ,[1,2]]\n",
    "data"
   ]
  },
  {
   "cell_type": "code",
   "execution_count": 113,
   "id": "01f9bb2a-dcdf-4e69-ad2e-f65355e02263",
   "metadata": {},
   "outputs": [],
   "source": [
    "from sklearn.preprocessing import MinMaxScaler"
   ]
  },
  {
   "cell_type": "code",
   "execution_count": 114,
   "id": "670595a0-4d36-4fc8-afb0-242b52dea01b",
   "metadata": {},
   "outputs": [
    {
     "name": "stdout",
     "output_type": "stream",
     "text": [
      "MinMaxScaler()\n"
     ]
    }
   ],
   "source": [
    "scaler=MinMaxScaler().fit(data)\n",
    "print(scaler)"
   ]
  },
  {
   "cell_type": "code",
   "execution_count": 115,
   "id": "c836622e-7768-4a5f-8a16-de78cdb9b41b",
   "metadata": {},
   "outputs": [
    {
     "data": {
      "text/plain": [
       "array([  17., 1089.])"
      ]
     },
     "execution_count": 115,
     "metadata": {},
     "output_type": "execute_result"
    }
   ],
   "source": [
    "scaler.data_min_"
   ]
  },
  {
   "cell_type": "code",
   "execution_count": 116,
   "id": "d7f6fe8f-3b21-4c64-8fd6-5d117c116a97",
   "metadata": {},
   "outputs": [
    {
     "data": {
      "text/plain": [
       "array([  54., 9876.])"
      ]
     },
     "execution_count": 116,
     "metadata": {},
     "output_type": "execute_result"
    }
   ],
   "source": [
    "scaler.data_max_"
   ]
  },
  {
   "cell_type": "code",
   "execution_count": 117,
   "id": "06718f57-0d34-4559-87f5-2d2aad1a012e",
   "metadata": {},
   "outputs": [
    {
     "data": {
      "text/html": [
       "<div>\n",
       "<style scoped>\n",
       "    .dataframe tbody tr th:only-of-type {\n",
       "        vertical-align: middle;\n",
       "    }\n",
       "\n",
       "    .dataframe tbody tr th {\n",
       "        vertical-align: top;\n",
       "    }\n",
       "\n",
       "    .dataframe thead th {\n",
       "        text-align: right;\n",
       "    }\n",
       "</style>\n",
       "<table border=\"1\" class=\"dataframe\">\n",
       "  <thead>\n",
       "    <tr style=\"text-align: right;\">\n",
       "      <th></th>\n",
       "      <th>Age</th>\n",
       "      <th>Salary</th>\n",
       "    </tr>\n",
       "  </thead>\n",
       "  <tbody>\n",
       "    <tr>\n",
       "      <th>count</th>\n",
       "      <td>85.000000</td>\n",
       "      <td>91.000000</td>\n",
       "    </tr>\n",
       "    <tr>\n",
       "      <th>mean</th>\n",
       "      <td>32.611765</td>\n",
       "      <td>4861.219780</td>\n",
       "    </tr>\n",
       "    <tr>\n",
       "      <th>std</th>\n",
       "      <td>9.354263</td>\n",
       "      <td>2684.750826</td>\n",
       "    </tr>\n",
       "    <tr>\n",
       "      <th>min</th>\n",
       "      <td>17.000000</td>\n",
       "      <td>1089.000000</td>\n",
       "    </tr>\n",
       "    <tr>\n",
       "      <th>25%</th>\n",
       "      <td>23.000000</td>\n",
       "      <td>3000.000000</td>\n",
       "    </tr>\n",
       "    <tr>\n",
       "      <th>50%</th>\n",
       "      <td>33.000000</td>\n",
       "      <td>4034.000000</td>\n",
       "    </tr>\n",
       "    <tr>\n",
       "      <th>75%</th>\n",
       "      <td>40.000000</td>\n",
       "      <td>8000.000000</td>\n",
       "    </tr>\n",
       "    <tr>\n",
       "      <th>max</th>\n",
       "      <td>54.000000</td>\n",
       "      <td>9876.000000</td>\n",
       "    </tr>\n",
       "  </tbody>\n",
       "</table>\n",
       "</div>"
      ],
      "text/plain": [
       "             Age       Salary\n",
       "count  85.000000    91.000000\n",
       "mean   32.611765  4861.219780\n",
       "std     9.354263  2684.750826\n",
       "min    17.000000  1089.000000\n",
       "25%    23.000000  3000.000000\n",
       "50%    33.000000  4034.000000\n",
       "75%    40.000000  8000.000000\n",
       "max    54.000000  9876.000000"
      ]
     },
     "execution_count": 117,
     "metadata": {},
     "output_type": "execute_result"
    }
   ],
   "source": [
    "data.describe()"
   ]
  },
  {
   "cell_type": "code",
   "execution_count": 118,
   "id": "157105eb-09af-40ea-8684-92a010f58122",
   "metadata": {},
   "outputs": [
    {
     "data": {
      "text/plain": [
       "(0, 1)"
      ]
     },
     "execution_count": 118,
     "metadata": {},
     "output_type": "execute_result"
    }
   ],
   "source": [
    "#check feature range\n",
    "scaler.feature_range"
   ]
  },
  {
   "cell_type": "code",
   "execution_count": 120,
   "id": "b15fe222-d52f-42d0-ac7a-c5bc1160580c",
   "metadata": {
    "scrolled": true
   },
   "outputs": [
    {
     "name": "stdout",
     "output_type": "stream",
     "text": [
      "[[0.48648649 0.13781723]\n",
      " [0.62162162 0.21748037]\n",
      " [0.16216216 0.33128485]\n",
      " [0.16216216 0.6726983 ]\n",
      " [0.45945946 0.78650279]\n",
      " [0.75675676 0.90030727]\n",
      " [0.45945946 0.        ]\n",
      " [0.02702703 0.01650165]\n",
      " [0.62162162 0.21748037]\n",
      " [0.16216216 0.21748037]\n",
      " [0.16216216 0.2208945 ]\n",
      " [0.45945946 0.44508934]\n",
      " [0.54054054 0.22260157]\n",
      " [0.89189189 0.23842039]\n",
      " [0.10810811 0.42505975]\n",
      " [0.16216216 0.89382042]\n",
      " [0.45945946 0.82576534]\n",
      " [0.75675676 0.93262775]\n",
      " [0.16216216 1.        ]\n",
      " [0.48648649 0.10754524]\n",
      " [0.78378378 0.74712644]\n",
      " [0.08108108 0.20996927]\n",
      " [0.75675676 0.33515421]\n",
      " [0.45945946 0.13781723]\n",
      " [0.64864865 0.21748037]\n",
      " [0.18918919 0.3705474 ]\n",
      " [0.48648649 0.78650279]\n",
      " [0.78378378 0.90030727]\n",
      " [0.40540541 0.        ]\n",
      " [0.05405405 0.01650165]\n",
      " [0.64864865 0.21748037]\n",
      " [0.10810811 0.2208945 ]\n",
      " [0.48648649 0.44508934]\n",
      " [0.10810811 0.62080346]\n",
      " [0.40540541 0.74712644]\n",
      " [0.56756757 0.22260157]\n",
      " [0.91891892 0.23842039]\n",
      " [0.16216216 0.42505975]\n",
      " [0.37837838 0.10754524]\n",
      " [0.10810811 0.20996927]\n",
      " [0.7027027  0.33515421]\n",
      " [0.40540541 0.44895869]\n",
      " [0.10810811 0.80949129]\n",
      " [0.45945946 0.90303858]\n",
      " [0.54054054 0.13781723]\n",
      " [0.72972973 0.21748037]\n",
      " [0.40540541 0.33128485]\n",
      " [0.24324324 0.6726983 ]\n",
      " [0.40540541 0.78650279]\n",
      " [0.7027027  0.90030727]\n",
      " [0.43243243 0.        ]\n",
      " [0.         0.01650165]\n",
      " [0.64864865 0.21748037]\n",
      " [0.10810811 0.21748037]\n",
      " [       nan 0.2208945 ]\n",
      " [0.51351351 0.44508934]\n",
      " [       nan 0.22260157]\n",
      " [1.         0.23842039]\n",
      " [0.13513514 0.42505975]\n",
      " [0.13513514 0.89382042]\n",
      " [0.43243243 0.82576534]\n",
      " [0.72972973 0.93262775]\n",
      " [       nan 0.10754524]\n",
      " [0.13513514 0.20996927]\n",
      " [0.72972973 0.33515421]\n",
      " [0.43243243 0.44895869]\n",
      " [0.13513514 0.80949129]\n",
      " [       nan 0.90303858]\n",
      " [0.43243243 0.13781723]\n",
      " [       nan 0.24411062]\n",
      " [0.13513514 0.36815751]\n",
      " [0.13513514 0.87606692]\n",
      " [0.43243243 0.        ]\n",
      " [       nan 0.01650165]\n",
      " [0.72972973 0.24411062]\n",
      " [0.13513514 0.87606692]\n",
      " [0.35135135 0.45624218]\n",
      " [0.43243243 0.22260157]\n",
      " [0.89189189 0.23842039]\n",
      " [0.37837838 0.82576534]\n",
      " [0.62162162 0.93262775]\n",
      " [0.37837838 0.10754524]\n",
      " [0.72972973 0.22123592]\n",
      " [0.13513514 0.20996927]\n",
      " [0.72972973 0.33515421]\n",
      " [0.43243243 0.44895869]\n",
      " [0.13513514 0.80949129]\n",
      " [0.43243243 0.90303858]\n",
      " [0.72972973 0.33515421]\n",
      " [0.43243243 0.44895869]\n",
      " [0.13513514 0.80949129]]\n"
     ]
    }
   ],
   "source": [
    "data_scaled_mm=scaler.transform(data)\n",
    "print(data_scaled_mm)"
   ]
  },
  {
   "cell_type": "code",
   "execution_count": 121,
   "id": "f26ae96a-1421-4fa4-b848-46c29e2e63fb",
   "metadata": {},
   "outputs": [
    {
     "data": {
      "text/html": [
       "<div>\n",
       "<style scoped>\n",
       "    .dataframe tbody tr th:only-of-type {\n",
       "        vertical-align: middle;\n",
       "    }\n",
       "\n",
       "    .dataframe tbody tr th {\n",
       "        vertical-align: top;\n",
       "    }\n",
       "\n",
       "    .dataframe thead th {\n",
       "        text-align: right;\n",
       "    }\n",
       "</style>\n",
       "<table border=\"1\" class=\"dataframe\">\n",
       "  <thead>\n",
       "    <tr style=\"text-align: right;\">\n",
       "      <th></th>\n",
       "      <th>Age</th>\n",
       "      <th>Salary</th>\n",
       "    </tr>\n",
       "  </thead>\n",
       "  <tbody>\n",
       "    <tr>\n",
       "      <th>0</th>\n",
       "      <td>0.486486</td>\n",
       "      <td>0.137817</td>\n",
       "    </tr>\n",
       "    <tr>\n",
       "      <th>1</th>\n",
       "      <td>0.621622</td>\n",
       "      <td>0.217480</td>\n",
       "    </tr>\n",
       "    <tr>\n",
       "      <th>2</th>\n",
       "      <td>0.162162</td>\n",
       "      <td>0.331285</td>\n",
       "    </tr>\n",
       "    <tr>\n",
       "      <th>3</th>\n",
       "      <td>0.162162</td>\n",
       "      <td>0.672698</td>\n",
       "    </tr>\n",
       "    <tr>\n",
       "      <th>4</th>\n",
       "      <td>0.459459</td>\n",
       "      <td>0.786503</td>\n",
       "    </tr>\n",
       "    <tr>\n",
       "      <th>...</th>\n",
       "      <td>...</td>\n",
       "      <td>...</td>\n",
       "    </tr>\n",
       "    <tr>\n",
       "      <th>86</th>\n",
       "      <td>0.135135</td>\n",
       "      <td>0.809491</td>\n",
       "    </tr>\n",
       "    <tr>\n",
       "      <th>87</th>\n",
       "      <td>0.432432</td>\n",
       "      <td>0.903039</td>\n",
       "    </tr>\n",
       "    <tr>\n",
       "      <th>88</th>\n",
       "      <td>0.729730</td>\n",
       "      <td>0.335154</td>\n",
       "    </tr>\n",
       "    <tr>\n",
       "      <th>89</th>\n",
       "      <td>0.432432</td>\n",
       "      <td>0.448959</td>\n",
       "    </tr>\n",
       "    <tr>\n",
       "      <th>90</th>\n",
       "      <td>0.135135</td>\n",
       "      <td>0.809491</td>\n",
       "    </tr>\n",
       "  </tbody>\n",
       "</table>\n",
       "<p>91 rows × 2 columns</p>\n",
       "</div>"
      ],
      "text/plain": [
       "         Age    Salary\n",
       "0   0.486486  0.137817\n",
       "1   0.621622  0.217480\n",
       "2   0.162162  0.331285\n",
       "3   0.162162  0.672698\n",
       "4   0.459459  0.786503\n",
       "..       ...       ...\n",
       "86  0.135135  0.809491\n",
       "87  0.432432  0.903039\n",
       "88  0.729730  0.335154\n",
       "89  0.432432  0.448959\n",
       "90  0.135135  0.809491\n",
       "\n",
       "[91 rows x 2 columns]"
      ]
     },
     "execution_count": 121,
     "metadata": {},
     "output_type": "execute_result"
    }
   ],
   "source": [
    "mm_scaled_data_set=pd.DataFrame(data_scaled_mm,columns=data.columns)\n",
    "mm_scaled_data_set"
   ]
  }
 ],
 "metadata": {
  "kernelspec": {
   "display_name": "Python 3 (ipykernel)",
   "language": "python",
   "name": "python3"
  },
  "language_info": {
   "codemirror_mode": {
    "name": "ipython",
    "version": 3
   },
   "file_extension": ".py",
   "mimetype": "text/x-python",
   "name": "python",
   "nbconvert_exporter": "python",
   "pygments_lexer": "ipython3",
   "version": "3.13.2"
  }
 },
 "nbformat": 4,
 "nbformat_minor": 5
}
